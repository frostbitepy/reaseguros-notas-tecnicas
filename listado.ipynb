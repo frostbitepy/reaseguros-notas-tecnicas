{
 "cells": [
  {
   "cell_type": "code",
   "execution_count": 1,
   "metadata": {},
   "outputs": [],
   "source": [
    "import pandas as pd\n",
    "import openpyxl"
   ]
  },
  {
   "cell_type": "code",
   "execution_count": 2,
   "metadata": {},
   "outputs": [],
   "source": [
    "# Read xlsx file and conver to dataframe\n",
    "df = pd.read_excel('Emisiones.xlsx', sheet_name='Report')"
   ]
  },
  {
   "cell_type": "code",
   "execution_count": 3,
   "metadata": {},
   "outputs": [
    {
     "name": "stdout",
     "output_type": "stream",
     "text": [
      "<class 'pandas.core.frame.DataFrame'>\n",
      "RangeIndex: 158234 entries, 0 to 158233\n",
      "Data columns (total 24 columns):\n",
      " #   Column       Non-Null Count   Dtype  \n",
      "---  ------       --------------   -----  \n",
      " 0   Unnamed: 0   131550 non-null  object \n",
      " 1   Unnamed: 1   0 non-null       float64\n",
      " 2   Unnamed: 2   8866 non-null    object \n",
      " 3   Unnamed: 3   128502 non-null  object \n",
      " 4   Unnamed: 4   76 non-null      object \n",
      " 5   Unnamed: 5   0 non-null       float64\n",
      " 6   Unnamed: 6   0 non-null       float64\n",
      " 7   Unnamed: 7   114 non-null     object \n",
      " 8   Unnamed: 8   158 non-null     float64\n",
      " 9   Unnamed: 9   128582 non-null  object \n",
      " 10  Unnamed: 10  128620 non-null  object \n",
      " 11  Unnamed: 11  128462 non-null  object \n",
      " 12  Unnamed: 12  0 non-null       float64\n",
      " 13  Unnamed: 13  128462 non-null  object \n",
      " 14  Unnamed: 14  196 non-null     object \n",
      " 15  Unnamed: 15  0 non-null       float64\n",
      " 16  Unnamed: 16  128658 non-null  object \n",
      " 17  Unnamed: 17  0 non-null       float64\n",
      " 18  Unnamed: 18  128658 non-null  object \n",
      " 19  Unnamed: 19  0 non-null       float64\n",
      " 20  Unnamed: 20  12126 non-null   object \n",
      " 21  Unnamed: 21  8790 non-null    object \n",
      " 22  Unnamed: 22  5860 non-null    object \n",
      " 23  Unnamed: 23  2930 non-null    object \n",
      "dtypes: float64(8), object(16)\n",
      "memory usage: 29.0+ MB\n",
      "None\n"
     ]
    }
   ],
   "source": [
    "# Print resumen of the dataframe\n",
    "print(df.info())"
   ]
  },
  {
   "cell_type": "code",
   "execution_count": 4,
   "metadata": {},
   "outputs": [
    {
     "name": "stdout",
     "output_type": "stream",
     "text": [
      "                        Unnamed: 0  Unnamed: 1  \\\n",
      "0                              NaN         NaN   \n",
      "1                              NaN         NaN   \n",
      "2                              NaN         NaN   \n",
      "3                              NaN         NaN   \n",
      "4                           Póliza         NaN   \n",
      "5                              NaN         NaN   \n",
      "6                              NaN         NaN   \n",
      "7   A  0301       215    13    105         NaN   \n",
      "8   A  0301       215    13    106         NaN   \n",
      "9   A  0301       215    13    108         NaN   \n",
      "10  A  0301       215    13    109         NaN   \n",
      "11                             NaN         NaN   \n",
      "12                             NaN         NaN   \n",
      "13                    Reasegurador         NaN   \n",
      "14                             NaN         NaN   \n",
      "15                     MS AMLIN AG         NaN   \n",
      "16                             NaN         NaN   \n",
      "17      KOREAN REINSURANCE COMPANY         NaN   \n",
      "18                             NaN         NaN   \n",
      "19        SCOR REINSURANCE COMPANY         NaN   \n",
      "20                             NaN         NaN   \n",
      "21       REASEGURADORA PATRIA S.A.         NaN   \n",
      "22                             NaN         NaN   \n",
      "23                             NaN         NaN   \n",
      "24  A  0301       215    13    104         NaN   \n",
      "\n",
      "                                           Unnamed: 2  \\\n",
      "0                            REGIONAL S.A. DE SEGUROS   \n",
      "1                        Listado Cesiones En Contrato   \n",
      "2   Emisiones - En Guaraníes - Por artículo -  Ent...   \n",
      "3                                                 NaN   \n",
      "4                                                 NaN   \n",
      "5                                                 NaN   \n",
      "6                                           Contrato:   \n",
      "7                                                 NaN   \n",
      "8                                                 NaN   \n",
      "9                                                 NaN   \n",
      "10                                                NaN   \n",
      "11                                             TOTAL:   \n",
      "12                                                NaN   \n",
      "13                                                NaN   \n",
      "14                                                NaN   \n",
      "15                                                NaN   \n",
      "16                                                NaN   \n",
      "17                                                NaN   \n",
      "18                                                NaN   \n",
      "19                                                NaN   \n",
      "20                                                NaN   \n",
      "21                                                NaN   \n",
      "22                                                NaN   \n",
      "23                                          Contrato:   \n",
      "24                                                NaN   \n",
      "\n",
      "                                        Unnamed: 3   Unnamed: 4  Unnamed: 5  \\\n",
      "0                                              NaN          NaN         NaN   \n",
      "1                                              NaN          NaN         NaN   \n",
      "2                                              NaN          NaN         NaN   \n",
      "3                                              NaN          NaN         NaN   \n",
      "4                                        Asegurado          NaN         NaN   \n",
      "5                               Reaseguros Activos          NaN         NaN   \n",
      "6                                             2022    EXCEDENTE         NaN   \n",
      "7   EMPRENDIMIENTOS COMERCIALES Y PRODUCTIVOS S.A.          NaN         NaN   \n",
      "8   EMPRENDIMIENTOS COMERCIALES Y PRODUCTIVOS S.A.          NaN         NaN   \n",
      "9   EMPRENDIMIENTOS COMERCIALES Y PRODUCTIVOS S.A.          NaN         NaN   \n",
      "10  EMPRENDIMIENTOS COMERCIALES Y PRODUCTIVOS S.A.          NaN         NaN   \n",
      "11                                            2022    EXCEDENTE         NaN   \n",
      "12                                             NaN          NaN         NaN   \n",
      "13                                             NaN          NaN         NaN   \n",
      "14                                             NaN          NaN         NaN   \n",
      "15                                             NaN          NaN         NaN   \n",
      "16                                             NaN          NaN         NaN   \n",
      "17                                             NaN          NaN         NaN   \n",
      "18                                             NaN          NaN         NaN   \n",
      "19                                             NaN          NaN         NaN   \n",
      "20                                             NaN          NaN         NaN   \n",
      "21                                             NaN          NaN         NaN   \n",
      "22                                             NaN          NaN         NaN   \n",
      "23                                            2022  CUOTA PARTE         NaN   \n",
      "24  EMPRENDIMIENTOS COMERCIALES Y PRODUCTIVOS S.A.          NaN         NaN   \n",
      "\n",
      "    Unnamed: 6     Unnamed: 7  Unnamed: 8           Unnamed: 9  ...  \\\n",
      "0          NaN            NaN         NaN                  NaN  ...   \n",
      "1          NaN            NaN         NaN                  NaN  ...   \n",
      "2          NaN            NaN         NaN                  NaN  ...   \n",
      "3          NaN            NaN         NaN                  NaN  ...   \n",
      "4          NaN            NaN         NaN                Desde  ...   \n",
      "5          NaN            NaN         NaN                  NaN  ...   \n",
      "6          NaN     TRANSPORTE         NaN                  NaN  ...   \n",
      "7          NaN            NaN         NaN  2022-12-09 00:00:00  ...   \n",
      "8          NaN            NaN         NaN  2022-12-09 00:00:00  ...   \n",
      "9          NaN            NaN         NaN  2022-12-09 00:00:00  ...   \n",
      "10         NaN            NaN         NaN  2022-12-09 00:00:00  ...   \n",
      "11         NaN     TRANSPORTE         NaN                  NaN  ...   \n",
      "12         NaN            NaN         NaN                  NaN  ...   \n",
      "13         NaN  Participación         NaN                  NaN  ...   \n",
      "14         NaN            NaN         NaN                  NaN  ...   \n",
      "15         NaN            NaN        50.0                    %  ...   \n",
      "16         NaN            NaN         NaN                  NaN  ...   \n",
      "17         NaN            NaN        25.0                    %  ...   \n",
      "18         NaN            NaN         NaN                  NaN  ...   \n",
      "19         NaN            NaN        20.0                    %  ...   \n",
      "20         NaN            NaN         NaN                  NaN  ...   \n",
      "21         NaN            NaN         5.0                    %  ...   \n",
      "22         NaN            NaN         NaN                  NaN  ...   \n",
      "23         NaN     TRANSPORTE         NaN                  NaN  ...   \n",
      "24         NaN            NaN         NaN  2022-12-09 00:00:00  ...   \n",
      "\n",
      "   Unnamed: 14 Unnamed: 15       Unnamed: 16 Unnamed: 17      Unnamed: 18  \\\n",
      "0          NaN         NaN               NaN         NaN              NaN   \n",
      "1          NaN         NaN               NaN         NaN              NaN   \n",
      "2          NaN         NaN               NaN         NaN              NaN   \n",
      "3          NaN         NaN               NaN         NaN              NaN   \n",
      "4          NaN         NaN    Capital Cedido         NaN     Prima Cedida   \n",
      "5          NaN         NaN               NaN         NaN              NaN   \n",
      "6          NaN         NaN               NaN         NaN              NaN   \n",
      "7          NaN         NaN         349087398         NaN           768023   \n",
      "8          NaN         NaN        1053871594         NaN          2318539   \n",
      "9          NaN         NaN        2824179428         NaN          6213134   \n",
      "10         NaN         NaN        2410836370         NaN          5303819   \n",
      "11         NaN         NaN        6637974790         NaN         14603515   \n",
      "12         NaN         NaN               NaN         NaN              NaN   \n",
      "13  % Comisión         NaN  Importe Comisión         NaN  A Vuestro Favor   \n",
      "14         NaN         NaN               NaN         NaN              NaN   \n",
      "15          31         NaN           2263541         NaN          5038217   \n",
      "16         NaN         NaN               NaN         NaN              NaN   \n",
      "17          34         NaN           1241297         NaN          2409582   \n",
      "18         NaN         NaN               NaN         NaN              NaN   \n",
      "19          25         NaN            730175         NaN          2190528   \n",
      "20         NaN         NaN               NaN         NaN              NaN   \n",
      "21          28         NaN            204448         NaN           525727   \n",
      "22         NaN         NaN               NaN         NaN              NaN   \n",
      "23         NaN         NaN               NaN         NaN              NaN   \n",
      "24         NaN         NaN         122058196         NaN           268483   \n",
      "\n",
      "    Unnamed: 19 Unnamed: 20          Unnamed: 21 Unnamed: 22  Unnamed: 23  \n",
      "0           NaN      Fecha:  2023-09-18 00:00:00         NaN          NaN  \n",
      "1           NaN       Hora:      14:05:30.958000         NaN          NaN  \n",
      "2           NaN    Programa  rptCesionesContrato         NaN          NaN  \n",
      "3           NaN         NaN                  NaN         NaN          NaN  \n",
      "4           NaN        A.I.                  NaN       Casco          Año  \n",
      "5           NaN         NaN                  NaN         NaN          NaN  \n",
      "6           NaN         NaN                  NaN         NaN          NaN  \n",
      "7           NaN         NaN                  NaN         NaN          NaN  \n",
      "8           NaN         NaN                  NaN         NaN          NaN  \n",
      "9           NaN         NaN                  NaN         NaN          NaN  \n",
      "10          NaN         NaN                  NaN         NaN          NaN  \n",
      "11          NaN         NaN                  NaN         NaN          NaN  \n",
      "12          NaN         NaN                  NaN         NaN          NaN  \n",
      "13          NaN         NaN                  NaN         NaN          NaN  \n",
      "14          NaN         NaN                  NaN         NaN          NaN  \n",
      "15          NaN         NaN                  NaN         NaN          NaN  \n",
      "16          NaN         NaN                  NaN         NaN          NaN  \n",
      "17          NaN         NaN                  NaN         NaN          NaN  \n",
      "18          NaN         NaN                  NaN         NaN          NaN  \n",
      "19          NaN         NaN                  NaN         NaN          NaN  \n",
      "20          NaN         NaN                  NaN         NaN          NaN  \n",
      "21          NaN         NaN                  NaN         NaN          NaN  \n",
      "22          NaN         NaN                  NaN         NaN          NaN  \n",
      "23          NaN         NaN                  NaN         NaN          NaN  \n",
      "24          NaN         NaN                  NaN         NaN          NaN  \n",
      "\n",
      "[25 rows x 24 columns]\n"
     ]
    }
   ],
   "source": [
    "# print first elements of the dataframe\n",
    "print(df.head(25))"
   ]
  },
  {
   "cell_type": "code",
   "execution_count": 5,
   "metadata": {},
   "outputs": [],
   "source": [
    "# Initialize an empty list to store the selected DataFrames\n",
    "selected_dfs = []\n",
    "\n",
    "# Flags to track whether \"TOTAL:\" and \"Contrato:\" are found\n",
    "total_found = False\n",
    "contrato_found = False\n",
    "\n",
    "productos_vida =['VIDA', 'VIDA COLECTIVO - CANCELACION DE DEUDAS']\n",
    "\n",
    "# Iterate through the DataFrame\n",
    "for i in range(len(df)):\n",
    "    # Check conditions for each row\n",
    "    if (\n",
    "        df.iloc[i, 2] == \"TOTAL:\" and\n",
    "        df.iloc[i, 3] == 2023 and\n",
    "        (df.iloc[i, 7]).split()[0] == \"VIDA\" and\n",
    "        df.iloc[i, 4] == \"EXCEDENTE\"\n",
    "    ):\n",
    "        total_found = True\n",
    "        contrato_found = False\n",
    "    elif df.iloc[i, 2] == \"Contrato:\":\n",
    "        contrato_found = True\n",
    "        total_found = False\n",
    "    \n",
    "    # Select rows between \"TOTAL:\" and \"Contrato:\"\n",
    "    if total_found and not contrato_found:\n",
    "        selected_dfs.append(df.iloc[i])\n",
    "\n",
    "# Check if there are selected DataFrames\n",
    "if selected_dfs:\n",
    "    # Concatenate the list of selected DataFrames into a single DataFrame\n",
    "    result_df = pd.concat(selected_dfs, axis=1).T\n",
    "    \n",
    "    # Filter out rows that start with specific words in the first column\n",
    "    result_df = result_df[~result_df.iloc[:, 0].astype(str).str.startswith(('Póliza', 'Operador:'))]\n",
    "    \n",
    "    # Filter out rows that in the third column start with specific words\n",
    "    result_df = result_df[~result_df.iloc[:, 2].astype(str).str.startswith(('REGIONAL', 'Listado', 'Emisiones'))]\n",
    "    \n",
    "    # Remove columns with all NaN values\n",
    "    result_df = result_df.dropna(axis=1, how='all')\n",
    "    \n",
    "    # Now, result_df contains the desired rows between \"TOTAL:\" and \"Contrato:\" with additional filtering\n",
    "else:\n",
    "    print(\"No matching rows found.\")\n",
    "\n",
    "result_df.to_excel('output.xlsx', index=False)"
   ]
  },
  {
   "cell_type": "code",
   "execution_count": 6,
   "metadata": {},
   "outputs": [],
   "source": [
    "result_df.to_excel('output.xlsx', index=False)"
   ]
  },
  {
   "cell_type": "code",
   "execution_count": 7,
   "metadata": {},
   "outputs": [
    {
     "data": {
      "text/plain": [
       "\"\\n# Example usage\\n# Replace 'your_dataframe' with the actual DataFrame variable name\\n# Replace 2022 and 'EXCEDENTE' with the desired values for year and riesgo\\nyour_filtered_df = filter_dataframe(df, 2023, 'EXCEDENTE')\\nif your_filtered_df is not None:\\n    print(your_filtered_df)\\n\""
      ]
     },
     "execution_count": 7,
     "metadata": {},
     "output_type": "execute_result"
    }
   ],
   "source": [
    "def filter_dataframe_vida(df, year, riesgo, vida=False):\n",
    "    # Initialize an empty list to store the selected DataFrames\n",
    "    selected_dfs = []\n",
    "\n",
    "    # Flags to track whether \"TOTAL:\" and \"Contrato:\" are found\n",
    "    total_found = False\n",
    "    contrato_found = False\n",
    "\n",
    "    # Iterate through the DataFrame\n",
    "    for i in range(len(df)):\n",
    "        # Check conditions for each row\n",
    "        if (\n",
    "            df.iloc[i, 2] == \"TOTAL:\" and\n",
    "            df.iloc[i, 3] == year and\n",
    "            (df.iloc[i, 7]).split()[0] == \"VIDA\" and\n",
    "            df.iloc[i, 4] == riesgo\n",
    "        ):\n",
    "            total_found = True\n",
    "            contrato_found = False\n",
    "        elif df.iloc[i, 2] == \"Contrato:\":\n",
    "            contrato_found = True\n",
    "            total_found = False\n",
    "    \n",
    "        # Select rows between \"TOTAL:\" and \"Contrato:\"\n",
    "        if total_found and not contrato_found:\n",
    "            selected_dfs.append(df.iloc[i])\n",
    "\n",
    "    # Check if there are selected DataFrames\n",
    "    if selected_dfs:\n",
    "        # Concatenate the list of selected DataFrames into a single DataFrame\n",
    "        result_df = pd.concat(selected_dfs, axis=1).T\n",
    "\n",
    "        # Filter out rows that start with specific words in the first column\n",
    "        result_df = result_df[~result_df.iloc[:, 0].astype(str).str.startswith(('Póliza', 'Operador:'))]\n",
    "\n",
    "        # Filter out rows that in the third column start with specific words\n",
    "        result_df = result_df[~result_df.iloc[:, 2].astype(str).str.startswith(('REGIONAL', 'Listado', 'Emisiones'))]\n",
    "\n",
    "        # Remove columns with all NaN values\n",
    "        result_df = result_df.dropna(axis=1, how='all')\n",
    "\n",
    "        # Change the column names for letters. Example: \"Unamed: 0\" to \"A\"\n",
    "        result_df.columns = [chr(65 + i) for i in range(len(result_df.columns))]\n",
    "\n",
    "        return result_df\n",
    "    else:\n",
    "        print(\"No matching rows found.\")\n",
    "        return None\n",
    "\"\"\"\n",
    "# Example usage\n",
    "# Replace 'your_dataframe' with the actual DataFrame variable name\n",
    "# Replace 2022 and 'EXCEDENTE' with the desired values for year and riesgo\n",
    "your_filtered_df = filter_dataframe(df, 2023, 'EXCEDENTE')\n",
    "if your_filtered_df is not None:\n",
    "    print(your_filtered_df)\n",
    "\"\"\""
   ]
  },
  {
   "cell_type": "code",
   "execution_count": 8,
   "metadata": {},
   "outputs": [
    {
     "data": {
      "text/plain": [
       "\"\\n# Example usage\\n# Replace 'your_dataframe' with the actual DataFrame variable name\\n# Replace 2022 and 'EXCEDENTE' with the desired values for year and riesgo\\nyour_filtered_df = filter_dataframe(df, 2023, 'EXCEDENTE')\\nif your_filtered_df is not None:\\n    print(your_filtered_df)\\n\""
      ]
     },
     "execution_count": 8,
     "metadata": {},
     "output_type": "execute_result"
    }
   ],
   "source": [
    "def filter_dataframe_patrimoniales(df, year, riesgo, vida=False):\n",
    "    # Initialize an empty list to store the selected DataFrames\n",
    "    selected_dfs = []\n",
    "\n",
    "    # Flags to track whether \"TOTAL:\" and \"Contrato:\" are found\n",
    "    total_found = False\n",
    "    contrato_found = False\n",
    "\n",
    "    # Iterate through the DataFrame\n",
    "    for i in range(len(df)):\n",
    "        # Check conditions for each row\n",
    "        if (\n",
    "            df.iloc[i, 2] == \"TOTAL:\" and\n",
    "            df.iloc[i, 3] == year and\n",
    "            not (df.iloc[i, 7]).split()[0] == \"VIDA\" and\n",
    "            df.iloc[i, 4] == riesgo\n",
    "        ):\n",
    "            total_found = True\n",
    "            contrato_found = False\n",
    "        elif df.iloc[i, 2] == \"Contrato:\":\n",
    "            contrato_found = True\n",
    "            total_found = False\n",
    "    \n",
    "        # Select rows between \"TOTAL:\" and \"Contrato:\"\n",
    "        if total_found and not contrato_found:\n",
    "            selected_dfs.append(df.iloc[i])\n",
    "\n",
    "    # Check if there are selected DataFrames\n",
    "    if selected_dfs:\n",
    "        # Concatenate the list of selected DataFrames into a single DataFrame\n",
    "        result_df = pd.concat(selected_dfs, axis=1).T\n",
    "\n",
    "        # Filter out rows that start with specific words in the first column\n",
    "        result_df = result_df[~result_df.iloc[:, 0].astype(str).str.startswith(('Póliza', 'Operador:'))]\n",
    "\n",
    "        # Filter out rows that in the third column start with specific words\n",
    "        result_df = result_df[~result_df.iloc[:, 2].astype(str).str.startswith(('REGIONAL', 'Listado', 'Emisiones'))]\n",
    "\n",
    "        # Remove columns with all NaN values\n",
    "        result_df = result_df.dropna(axis=1, how='all')\n",
    "\n",
    "        # Change the column names for letters. Example: \"Unamed: 0\" to \"A\"\n",
    "        result_df.columns = [chr(65 + i) for i in range(len(result_df.columns))]\n",
    "\n",
    "        return result_df\n",
    "    else:\n",
    "        print(\"No matching rows found.\")\n",
    "        return None\n",
    "\"\"\"\n",
    "# Example usage\n",
    "# Replace 'your_dataframe' with the actual DataFrame variable name\n",
    "# Replace 2022 and 'EXCEDENTE' with the desired values for year and riesgo\n",
    "your_filtered_df = filter_dataframe(df, 2023, 'EXCEDENTE')\n",
    "if your_filtered_df is not None:\n",
    "    print(your_filtered_df)\n",
    "\"\"\""
   ]
  },
  {
   "cell_type": "code",
   "execution_count": 9,
   "metadata": {},
   "outputs": [],
   "source": [
    "\n",
    "# Example usage\n",
    "# Replace 'your_dataframe' with the actual DataFrame variable name\n",
    "# Replace 2022 and 'EXCEDENTE' with the desired values for year and riesgo\n",
    "filtered_vida = filter_dataframe_vida(df, 2023, 'EXCEDENTE', vida=False)\n",
    "filtered_patrimoniales = filter_dataframe_patrimoniales(df, 2023, 'EXCEDENTE', vida=False)\n",
    "filtered_vida.to_excel('output_vida.xlsx', index=False)\n",
    "filtered_patrimoniales.to_excel('output_patrimoniales.xlsx', index=False)\n"
   ]
  },
  {
   "cell_type": "code",
   "execution_count": 10,
   "metadata": {},
   "outputs": [
    {
     "data": {
      "text/plain": [
       "\"\\n# Example usage\\n# Replace 'your_dataframe' with the actual DataFrame variable name\\nyour_processed_df = process_dataframe(your_dataframe)\\nprint(your_processed_df)\\n\""
      ]
     },
     "execution_count": 10,
     "metadata": {},
     "output_type": "execute_result"
    }
   ],
   "source": [
    "\n",
    "def remove_totals(df):\n",
    "    # Remove all the rows that start with \"TOTAL:\" in the second column\n",
    "    result_df = df[~df.iloc[:, 1].astype(str).str.startswith('TOTAL:')]\n",
    "    \n",
    "    # Remove all empty rows\n",
    "    result_df = result_df.dropna(how='all')\n",
    "\n",
    "    return result_df\n",
    "\"\"\"\n",
    "# Example usage\n",
    "# Replace 'your_dataframe' with the actual DataFrame variable name\n",
    "your_processed_df = process_dataframe(your_dataframe)\n",
    "print(your_processed_df)\n",
    "\"\"\""
   ]
  },
  {
   "cell_type": "code",
   "execution_count": 11,
   "metadata": {},
   "outputs": [],
   "source": [
    "def calculate_sums(df):\n",
    "    # Suma los valores numéricos de las columnas H, la columna L y la columna M,\n",
    "    # devuélveme los valores y almacénalos en variables \"prima\", \"importe_comision\" y \"a_favor\" respectivamente\n",
    "    prima = pd.to_numeric(df['H'], errors='coerce').fillna(0).sum()\n",
    "    importe_comision = pd.to_numeric(df['L'], errors='coerce').fillna(0).sum()\n",
    "    a_favor = pd.to_numeric(df['M'], errors='coerce').fillna(0).sum()\n",
    "\n",
    "    return prima, importe_comision, a_favor"
   ]
  },
  {
   "cell_type": "code",
   "execution_count": 12,
   "metadata": {},
   "outputs": [
    {
     "ename": "NameError",
     "evalue": "name 'filter_dataframe' is not defined",
     "output_type": "error",
     "traceback": [
      "\u001b[1;31m---------------------------------------------------------------------------\u001b[0m",
      "\u001b[1;31mNameError\u001b[0m                                 Traceback (most recent call last)",
      "Cell \u001b[1;32mIn[12], line 16\u001b[0m\n\u001b[0;32m     11\u001b[0m     \u001b[38;5;28;01mreturn\u001b[39;00m sums_result\n\u001b[0;32m     13\u001b[0m \u001b[38;5;66;03m# Example usage\u001b[39;00m\n\u001b[0;32m     14\u001b[0m \u001b[38;5;66;03m# Replace 'your_dataframe' with the actual DataFrame variable name\u001b[39;00m\n\u001b[0;32m     15\u001b[0m \u001b[38;5;66;03m# Replace 2022 and 'EXCEDENTE' with the desired values for year and riesgo\u001b[39;00m\n\u001b[1;32m---> 16\u001b[0m your_sums_result \u001b[38;5;241m=\u001b[39m \u001b[43mprocess_and_sum\u001b[49m\u001b[43m(\u001b[49m\u001b[43mdf\u001b[49m\u001b[43m,\u001b[49m\u001b[43m \u001b[49m\u001b[38;5;241;43m2023\u001b[39;49m\u001b[43m,\u001b[49m\u001b[43m \u001b[49m\u001b[38;5;124;43m'\u001b[39;49m\u001b[38;5;124;43mEXCEDENTE\u001b[39;49m\u001b[38;5;124;43m'\u001b[39;49m\u001b[43m)\u001b[49m\n\u001b[0;32m     17\u001b[0m \u001b[38;5;28mprint\u001b[39m(\u001b[38;5;124m\"\u001b[39m\u001b[38;5;124mPrima:\u001b[39m\u001b[38;5;124m\"\u001b[39m, your_sums_result[\u001b[38;5;241m0\u001b[39m])\n\u001b[0;32m     18\u001b[0m \u001b[38;5;28mprint\u001b[39m(\u001b[38;5;124m\"\u001b[39m\u001b[38;5;124mImporte Comision:\u001b[39m\u001b[38;5;124m\"\u001b[39m, your_sums_result[\u001b[38;5;241m1\u001b[39m])\n",
      "Cell \u001b[1;32mIn[12], line 3\u001b[0m, in \u001b[0;36mprocess_and_sum\u001b[1;34m(df, year, riesgo)\u001b[0m\n\u001b[0;32m      1\u001b[0m \u001b[38;5;28;01mdef\u001b[39;00m \u001b[38;5;21mprocess_and_sum\u001b[39m(df, year, riesgo):\n\u001b[0;32m      2\u001b[0m     \u001b[38;5;66;03m# Step 1: Filter the DataFrame\u001b[39;00m\n\u001b[1;32m----> 3\u001b[0m     filtered_df \u001b[38;5;241m=\u001b[39m \u001b[43mfilter_dataframe\u001b[49m(df, year, riesgo)\n\u001b[0;32m      5\u001b[0m     \u001b[38;5;66;03m# Step 2: Remove totals from the filtered DataFrame\u001b[39;00m\n\u001b[0;32m      6\u001b[0m     processed_df \u001b[38;5;241m=\u001b[39m remove_totals(filtered_df)\n",
      "\u001b[1;31mNameError\u001b[0m: name 'filter_dataframe' is not defined"
     ]
    }
   ],
   "source": [
    "def process_and_sum(df, year, riesgo):\n",
    "    # Step 1: Filter the DataFrame\n",
    "    filtered_df = filter_dataframe(df, year, riesgo)\n",
    "    \n",
    "    # Step 2: Remove totals from the filtered DataFrame\n",
    "    processed_df = remove_totals(filtered_df)\n",
    "    \n",
    "    # Step 3: Calculate the sums\n",
    "    sums_result = calculate_sums(processed_df)\n",
    "    \n",
    "    return sums_result\n",
    "\n",
    "# Example usage\n",
    "# Replace 'your_dataframe' with the actual DataFrame variable name\n",
    "# Replace 2022 and 'EXCEDENTE' with the desired values for year and riesgo\n",
    "your_sums_result = process_and_sum(df, 2023, 'EXCEDENTE')\n",
    "print(\"Prima:\", your_sums_result[0])\n",
    "print(\"Importe Comision:\", your_sums_result[1])\n",
    "print(\"A Favor:\", your_sums_result[2])"
   ]
  },
  {
   "cell_type": "code",
   "execution_count": null,
   "metadata": {},
   "outputs": [],
   "source": [
    "print(result_df.head())"
   ]
  },
  {
   "cell_type": "code",
   "execution_count": null,
   "metadata": {},
   "outputs": [],
   "source": [
    "# Change the column names for letters. Example: \"Unamed: 0\" to \"A\"\n",
    "result_df.columns = [chr(65 + i) for i in range(len(result_df.columns))]"
   ]
  },
  {
   "cell_type": "code",
   "execution_count": null,
   "metadata": {},
   "outputs": [],
   "source": [
    "# Remove all the rows that start with \"TOTAL:\" in the second column, and remove all empty rows\n",
    "result_df = result_df[~result_df.iloc[:, 1].astype(str).str.startswith('TOTAL:')].dropna(how='all')"
   ]
  },
  {
   "cell_type": "code",
   "execution_count": null,
   "metadata": {},
   "outputs": [],
   "source": [
    "# Suma los valores numéricos de las columnas H, la columna L y la columna M,\n",
    "# devuélveme los valores y almacénalos en variables \"prima\", \"importe_comision\" y \"a_favor\" respectivamente\n",
    "prima = pd.to_numeric(result_df['H'], errors='coerce').fillna(0).sum()\n",
    "importe_comision = pd.to_numeric(result_df['L'], errors='coerce').fillna(0).sum()\n",
    "a_favor = pd.to_numeric(result_df['M'], errors='coerce').fillna(0).sum()\n",
    "\n",
    "# Imprime los valores de las variables \"prima\", \"importe_comision\" y \"a_favor\"\n",
    "print(prima)\n",
    "print(importe_comision)\n",
    "print(a_favor)"
   ]
  },
  {
   "cell_type": "code",
   "execution_count": null,
   "metadata": {},
   "outputs": [
    {
     "data": {
      "text/plain": [
       "\"\\n# Example usage\\n# Replace 'your_dataframe' with the actual DataFrame variable name\\n# Replace 2022 and 'EXCEDENTE' with the desired values for year and riesgo\\nyour_filtered_df = filter_dataframe_patrimoniales(df, 2023, 'EXCEDENTE')\\nif your_filtered_df is not None:\\n    print(your_filtered_df)\\n\""
      ]
     },
     "execution_count": 4,
     "metadata": {},
     "output_type": "execute_result"
    }
   ],
   "source": [
    "def filter_recuperos_patrimoniales(df, year, riesgo, vida=False):\n",
    "    # Initialize an empty list to store the selected DataFrames\n",
    "    selected_dfs = []\n",
    "\n",
    "    # Flags to track whether \"TOTAL:\" and \"Contrato:\" are found\n",
    "    total_found = False\n",
    "    contrato_found = False\n",
    "\n",
    "    # Iterate through the DataFrame\n",
    "    for i in range(len(df)):\n",
    "        # Check conditions for each row\n",
    "        # Qué secciones calcular: en este caso se excluyen VIDA y CAUCION\n",
    "        if (\n",
    "            df.iloc[i, 0] == \"Total Contrato:\" and\n",
    "            df.iloc[i, 2] == year and\n",
    "            not (df.iloc[i, 9]).split()[0] == \"VIDA\" and\n",
    "            not (df.iloc[i, 9]).split()[0] == \"CAUCION\" and\n",
    "            df.iloc[i, 3] == riesgo\n",
    "        ):\n",
    "            total_found = True\n",
    "            contrato_found = False\n",
    "        elif df.iloc[i, 0] == \"Contrato:\" or df.iloc[i, 1] == \"Resumen\":\n",
    "            contrato_found = True\n",
    "            total_found = False\n",
    "    \n",
    "        # Select rows between \"TOTAL:\" and \"Contrato:\"\n",
    "        if total_found and not contrato_found:\n",
    "            selected_dfs.append(df.iloc[i])\n",
    "\n",
    "    # Check if there are selected DataFrames\n",
    "    if selected_dfs:\n",
    "        # Concatenate the list of selected DataFrames into a single DataFrame\n",
    "        result_df = pd.concat(selected_dfs, axis=1).T\n",
    "\n",
    "        # Filter out rows that start with specific words in the first column\n",
    "        result_df = result_df[~result_df.iloc[:, 0].astype(str).str.startswith(('Póliza', 'Operador:'))]\n",
    "\n",
    "        # Filter out rows that in the third column start with specific words\n",
    "        result_df = result_df[~result_df.iloc[:, 2].astype(str).str.startswith(('REGIONAL', 'Listado', 'Emisiones', 'Anulaciones'))]\n",
    "\n",
    "        # Remove columns with all NaN values\n",
    "        result_df = result_df.dropna(axis=1, how='all')\n",
    "\n",
    "        # Change the column names for letters. Example: \"Unamed: 0\" to \"A\"\n",
    "        result_df.columns = [chr(65 + i) for i in range(len(result_df.columns))]\n",
    "\n",
    "        return result_df\n",
    "    else:\n",
    "        print(\"No matching rows found.\")\n",
    "        return None\n",
    "\"\"\"\n",
    "# Example usage\n",
    "# Replace 'your_dataframe' with the actual DataFrame variable name\n",
    "# Replace 2022 and 'EXCEDENTE' with the desired values for year and riesgo\n",
    "your_filtered_df = filter_recuperos_patrimoniales(df, 2023, 'EXCEDENTE')\n",
    "if your_filtered_df is not None:\n",
    "    print(your_filtered_df)\n",
    "\"\"\""
   ]
  },
  {
   "cell_type": "code",
   "execution_count": null,
   "metadata": {},
   "outputs": [
    {
     "data": {
      "text/plain": [
       "\"\\n# Example usage\\n# Replace 'your_dataframe' with the actual DataFrame variable name\\nyour_processed_df = remove_totals_recuperos(your_dataframe)\\nprint(your_processed_df)\\n\""
      ]
     },
     "execution_count": 18,
     "metadata": {},
     "output_type": "execute_result"
    }
   ],
   "source": [
    "def remove_totals_recuperos(df):\n",
    "    # Remove all the rows that start with \"TOTAL:\" in the second column\n",
    "    result_df = df[~df.iloc[:, 0].astype(str).str.startswith('Total Contrato:')]\n",
    "    \n",
    "    # Remove all empty rows\n",
    "    result_df = result_df.dropna(how='all')\n",
    "\n",
    "    return result_df\n",
    "\"\"\"\n",
    "# Example usage\n",
    "# Replace 'your_dataframe' with the actual DataFrame variable name\n",
    "your_processed_df = remove_totals_recuperos(your_dataframe)\n",
    "print(your_processed_df)\n",
    "\"\"\""
   ]
  },
  {
   "cell_type": "code",
   "execution_count": null,
   "metadata": {},
   "outputs": [],
   "source": [
    "def calculate_sums_recuperos(df):\n",
    "    # Suma los valores numéricos de las columnas H, la columna L y la columna M,\n",
    "    # devuélveme los valores y almacénalos en variables \"prima\", \"importe_comision\" y \"a_favor\" respectivamente\n",
    "    indemnizacion = pd.to_numeric(df['J'], errors='coerce').fillna(0).sum()\n",
    "    gastos = pd.to_numeric(df['M'], errors='coerce').fillna(0).sum()\n",
    "    importe_total = pd.to_numeric(df['O'], errors='coerce').fillna(0).sum()\n",
    "\n",
    "    return indemnizacion, gastos, importe_total"
   ]
  },
  {
   "cell_type": "code",
   "execution_count": null,
   "metadata": {},
   "outputs": [],
   "source": [
    "recuperos_df = filter_recuperos_patrimoniales(df, 2023, 'EXCEDENTE', vida=False)"
   ]
  },
  {
   "cell_type": "code",
   "execution_count": null,
   "metadata": {},
   "outputs": [],
   "source": [
    "no_totals_df = remove_totals_recuperos(recuperos_df)"
   ]
  },
  {
   "cell_type": "code",
   "execution_count": null,
   "metadata": {},
   "outputs": [],
   "source": [
    "no_totals_df.to_excel('output_recuperos_no_totals.xlsx', index=False)"
   ]
  },
  {
   "cell_type": "code",
   "execution_count": null,
   "metadata": {},
   "outputs": [
    {
     "name": "stdout",
     "output_type": "stream",
     "text": [
      "Indemnizacion: 638095112.0\n",
      "Gastos: 16133964.0\n",
      "Importe Total: 654229076.0\n"
     ]
    }
   ],
   "source": [
    "sums_result = calculate_sums_recuperos(no_totals_df)\n",
    "print(\"Indemnizacion:\", sums_result[0])\n",
    "print(\"Gastos:\", sums_result[1])\n",
    "print(\"Importe Total:\", sums_result[2])"
   ]
  },
  {
   "cell_type": "code",
   "execution_count": null,
   "metadata": {},
   "outputs": [],
   "source": [
    "recuperos_df.to_excel('output_recuperos.xlsx', index=False)"
   ]
  }
 ],
 "metadata": {
  "kernelspec": {
   "display_name": ".venv",
   "language": "python",
   "name": "python3"
  },
  "language_info": {
   "codemirror_mode": {
    "name": "ipython",
    "version": 3
   },
   "file_extension": ".py",
   "mimetype": "text/x-python",
   "name": "python",
   "nbconvert_exporter": "python",
   "pygments_lexer": "ipython3",
   "version": "3.11.3"
  }
 },
 "nbformat": 4,
 "nbformat_minor": 2
}
