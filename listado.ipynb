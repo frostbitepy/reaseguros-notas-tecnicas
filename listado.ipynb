{
 "cells": [
  {
   "cell_type": "code",
   "execution_count": 1,
   "metadata": {},
   "outputs": [],
   "source": [
    "import pandas as pd\n",
    "import openpyxl"
   ]
  },
  {
   "cell_type": "code",
   "execution_count": 3,
   "metadata": {},
   "outputs": [],
   "source": [
    "# Read xlsx file and conver to dataframe\n",
    "df = pd.read_excel('Recuperos.xlsx', sheet_name='Report')"
   ]
  },
  {
   "cell_type": "code",
   "execution_count": null,
   "metadata": {},
   "outputs": [],
   "source": [
    "# Print resumen of the dataframe\n",
    "print(df.info())"
   ]
  },
  {
   "cell_type": "code",
   "execution_count": null,
   "metadata": {},
   "outputs": [],
   "source": [
    "# print first elements of the dataframe\n",
    "print(df.head(25))"
   ]
  },
  {
   "cell_type": "code",
   "execution_count": 71,
   "metadata": {},
   "outputs": [],
   "source": [
    "# Initialize an empty list to store the selected DataFrames\n",
    "selected_dfs = []\n",
    "\n",
    "# Flags to track whether \"TOTAL:\" and \"Contrato:\" are found\n",
    "total_found = False\n",
    "contrato_found = False\n",
    "\n",
    "productos_vida =['VIDA', 'VIDA COLECTIVO - CANCELACION DE DEUDAS']\n",
    "\n",
    "# Iterate through the DataFrame\n",
    "for i in range(len(df)):\n",
    "    # Check conditions for each row\n",
    "    if (\n",
    "        df.iloc[i, 2] == \"TOTAL:\" and\n",
    "        df.iloc[i, 3] == 2023 and\n",
    "        (df.iloc[i, 7]).split()[0] == \"VIDA\" and\n",
    "        df.iloc[i, 4] == \"EXCEDENTE\"\n",
    "    ):\n",
    "        total_found = True\n",
    "        contrato_found = False\n",
    "    elif df.iloc[i, 2] == \"Contrato:\":\n",
    "        contrato_found = True\n",
    "        total_found = False\n",
    "    \n",
    "    # Select rows between \"TOTAL:\" and \"Contrato:\"\n",
    "    if total_found and not contrato_found:\n",
    "        selected_dfs.append(df.iloc[i])\n",
    "\n",
    "# Check if there are selected DataFrames\n",
    "if selected_dfs:\n",
    "    # Concatenate the list of selected DataFrames into a single DataFrame\n",
    "    result_df = pd.concat(selected_dfs, axis=1).T\n",
    "    \n",
    "    # Filter out rows that start with specific words in the first column\n",
    "    result_df = result_df[~result_df.iloc[:, 0].astype(str).str.startswith(('Póliza', 'Operador:'))]\n",
    "    \n",
    "    # Filter out rows that in the third column start with specific words\n",
    "    result_df = result_df[~result_df.iloc[:, 2].astype(str).str.startswith(('REGIONAL', 'Listado', 'Emisiones'))]\n",
    "    \n",
    "    # Remove columns with all NaN values\n",
    "    result_df = result_df.dropna(axis=1, how='all')\n",
    "    \n",
    "    # Now, result_df contains the desired rows between \"TOTAL:\" and \"Contrato:\" with additional filtering\n",
    "else:\n",
    "    print(\"No matching rows found.\")\n",
    "\n",
    "result_df.to_excel('output.xlsx', index=False)"
   ]
  },
  {
   "cell_type": "code",
   "execution_count": null,
   "metadata": {},
   "outputs": [],
   "source": [
    "result_df.to_excel('output.xlsx', index=False)"
   ]
  },
  {
   "cell_type": "code",
   "execution_count": 81,
   "metadata": {},
   "outputs": [
    {
     "data": {
      "text/plain": [
       "\"\\n# Example usage\\n# Replace 'your_dataframe' with the actual DataFrame variable name\\n# Replace 2022 and 'EXCEDENTE' with the desired values for year and riesgo\\nyour_filtered_df = filter_dataframe(df, 2023, 'EXCEDENTE')\\nif your_filtered_df is not None:\\n    print(your_filtered_df)\\n\""
      ]
     },
     "execution_count": 81,
     "metadata": {},
     "output_type": "execute_result"
    }
   ],
   "source": [
    "def filter_dataframe_vida(df, year, riesgo, vida=False):\n",
    "    # Initialize an empty list to store the selected DataFrames\n",
    "    selected_dfs = []\n",
    "\n",
    "    # Flags to track whether \"TOTAL:\" and \"Contrato:\" are found\n",
    "    total_found = False\n",
    "    contrato_found = False\n",
    "\n",
    "    # Iterate through the DataFrame\n",
    "    for i in range(len(df)):\n",
    "        # Check conditions for each row\n",
    "        if (\n",
    "            df.iloc[i, 2] == \"TOTAL:\" and\n",
    "            df.iloc[i, 3] == year and\n",
    "            (df.iloc[i, 7]).split()[0] == \"VIDA\" and\n",
    "            df.iloc[i, 4] == riesgo\n",
    "        ):\n",
    "            total_found = True\n",
    "            contrato_found = False\n",
    "        elif df.iloc[i, 2] == \"Contrato:\":\n",
    "            contrato_found = True\n",
    "            total_found = False\n",
    "    \n",
    "        # Select rows between \"TOTAL:\" and \"Contrato:\"\n",
    "        if total_found and not contrato_found:\n",
    "            selected_dfs.append(df.iloc[i])\n",
    "\n",
    "    # Check if there are selected DataFrames\n",
    "    if selected_dfs:\n",
    "        # Concatenate the list of selected DataFrames into a single DataFrame\n",
    "        result_df = pd.concat(selected_dfs, axis=1).T\n",
    "\n",
    "        # Filter out rows that start with specific words in the first column\n",
    "        result_df = result_df[~result_df.iloc[:, 0].astype(str).str.startswith(('Póliza', 'Operador:'))]\n",
    "\n",
    "        # Filter out rows that in the third column start with specific words\n",
    "        result_df = result_df[~result_df.iloc[:, 2].astype(str).str.startswith(('REGIONAL', 'Listado', 'Emisiones'))]\n",
    "\n",
    "        # Remove columns with all NaN values\n",
    "        result_df = result_df.dropna(axis=1, how='all')\n",
    "\n",
    "        # Change the column names for letters. Example: \"Unamed: 0\" to \"A\"\n",
    "        result_df.columns = [chr(65 + i) for i in range(len(result_df.columns))]\n",
    "\n",
    "        return result_df\n",
    "    else:\n",
    "        print(\"No matching rows found.\")\n",
    "        return None\n",
    "\"\"\"\n",
    "# Example usage\n",
    "# Replace 'your_dataframe' with the actual DataFrame variable name\n",
    "# Replace 2022 and 'EXCEDENTE' with the desired values for year and riesgo\n",
    "your_filtered_df = filter_dataframe(df, 2023, 'EXCEDENTE')\n",
    "if your_filtered_df is not None:\n",
    "    print(your_filtered_df)\n",
    "\"\"\""
   ]
  },
  {
   "cell_type": "code",
   "execution_count": 82,
   "metadata": {},
   "outputs": [
    {
     "data": {
      "text/plain": [
       "\"\\n# Example usage\\n# Replace 'your_dataframe' with the actual DataFrame variable name\\n# Replace 2022 and 'EXCEDENTE' with the desired values for year and riesgo\\nyour_filtered_df = filter_dataframe(df, 2023, 'EXCEDENTE')\\nif your_filtered_df is not None:\\n    print(your_filtered_df)\\n\""
      ]
     },
     "execution_count": 82,
     "metadata": {},
     "output_type": "execute_result"
    }
   ],
   "source": [
    "def filter_dataframe_patrimoniales(df, year, riesgo, vida=False):\n",
    "    # Initialize an empty list to store the selected DataFrames\n",
    "    selected_dfs = []\n",
    "\n",
    "    # Flags to track whether \"TOTAL:\" and \"Contrato:\" are found\n",
    "    total_found = False\n",
    "    contrato_found = False\n",
    "\n",
    "    # Iterate through the DataFrame\n",
    "    for i in range(len(df)):\n",
    "        # Check conditions for each row\n",
    "        if (\n",
    "            df.iloc[i, 2] == \"TOTAL:\" and\n",
    "            df.iloc[i, 3] == year and\n",
    "            not (df.iloc[i, 7]).split()[0] == \"VIDA\" and\n",
    "            df.iloc[i, 4] == riesgo\n",
    "        ):\n",
    "            total_found = True\n",
    "            contrato_found = False\n",
    "        elif df.iloc[i, 2] == \"Contrato:\":\n",
    "            contrato_found = True\n",
    "            total_found = False\n",
    "    \n",
    "        # Select rows between \"TOTAL:\" and \"Contrato:\"\n",
    "        if total_found and not contrato_found:\n",
    "            selected_dfs.append(df.iloc[i])\n",
    "\n",
    "    # Check if there are selected DataFrames\n",
    "    if selected_dfs:\n",
    "        # Concatenate the list of selected DataFrames into a single DataFrame\n",
    "        result_df = pd.concat(selected_dfs, axis=1).T\n",
    "\n",
    "        # Filter out rows that start with specific words in the first column\n",
    "        result_df = result_df[~result_df.iloc[:, 0].astype(str).str.startswith(('Póliza', 'Operador:'))]\n",
    "\n",
    "        # Filter out rows that in the third column start with specific words\n",
    "        result_df = result_df[~result_df.iloc[:, 2].astype(str).str.startswith(('REGIONAL', 'Listado', 'Emisiones'))]\n",
    "\n",
    "        # Remove columns with all NaN values\n",
    "        result_df = result_df.dropna(axis=1, how='all')\n",
    "\n",
    "        # Change the column names for letters. Example: \"Unamed: 0\" to \"A\"\n",
    "        result_df.columns = [chr(65 + i) for i in range(len(result_df.columns))]\n",
    "\n",
    "        return result_df\n",
    "    else:\n",
    "        print(\"No matching rows found.\")\n",
    "        return None\n",
    "\"\"\"\n",
    "# Example usage\n",
    "# Replace 'your_dataframe' with the actual DataFrame variable name\n",
    "# Replace 2022 and 'EXCEDENTE' with the desired values for year and riesgo\n",
    "your_filtered_df = filter_dataframe(df, 2023, 'EXCEDENTE')\n",
    "if your_filtered_df is not None:\n",
    "    print(your_filtered_df)\n",
    "\"\"\""
   ]
  },
  {
   "cell_type": "code",
   "execution_count": 83,
   "metadata": {},
   "outputs": [],
   "source": [
    "\n",
    "# Example usage\n",
    "# Replace 'your_dataframe' with the actual DataFrame variable name\n",
    "# Replace 2022 and 'EXCEDENTE' with the desired values for year and riesgo\n",
    "filtered_vida = filter_dataframe_vida(df, 2023, 'EXCEDENTE', vida=False)\n",
    "filtered_patrimoniales = filter_dataframe_patrimoniales(df, 2023, 'EXCEDENTE', vida=False)\n",
    "filtered_vida.to_excel('output_vida.xlsx', index=False)\n",
    "filtered_patrimoniales.to_excel('output_patrimoniales.xlsx', index=False)\n"
   ]
  },
  {
   "cell_type": "code",
   "execution_count": 10,
   "metadata": {},
   "outputs": [
    {
     "data": {
      "text/plain": [
       "\"\\n# Example usage\\n# Replace 'your_dataframe' with the actual DataFrame variable name\\nyour_processed_df = process_dataframe(your_dataframe)\\nprint(your_processed_df)\\n\""
      ]
     },
     "execution_count": 10,
     "metadata": {},
     "output_type": "execute_result"
    }
   ],
   "source": [
    "\n",
    "def remove_totals(df):\n",
    "    # Remove all the rows that start with \"TOTAL:\" in the second column\n",
    "    result_df = df[~df.iloc[:, 1].astype(str).str.startswith('TOTAL:')]\n",
    "    \n",
    "    # Remove all empty rows\n",
    "    result_df = result_df.dropna(how='all')\n",
    "\n",
    "    return result_df\n",
    "\"\"\"\n",
    "# Example usage\n",
    "# Replace 'your_dataframe' with the actual DataFrame variable name\n",
    "your_processed_df = process_dataframe(your_dataframe)\n",
    "print(your_processed_df)\n",
    "\"\"\""
   ]
  },
  {
   "cell_type": "code",
   "execution_count": 11,
   "metadata": {},
   "outputs": [],
   "source": [
    "def calculate_sums(df):\n",
    "    # Suma los valores numéricos de las columnas H, la columna L y la columna M,\n",
    "    # devuélveme los valores y almacénalos en variables \"prima\", \"importe_comision\" y \"a_favor\" respectivamente\n",
    "    prima = pd.to_numeric(df['H'], errors='coerce').fillna(0).sum()\n",
    "    importe_comision = pd.to_numeric(df['L'], errors='coerce').fillna(0).sum()\n",
    "    a_favor = pd.to_numeric(df['M'], errors='coerce').fillna(0).sum()\n",
    "\n",
    "    return prima, importe_comision, a_favor"
   ]
  },
  {
   "cell_type": "code",
   "execution_count": null,
   "metadata": {},
   "outputs": [],
   "source": [
    "def process_and_sum(df, year, riesgo):\n",
    "    # Step 1: Filter the DataFrame\n",
    "    filtered_df = filter_dataframe(df, year, riesgo)\n",
    "    \n",
    "    # Step 2: Remove totals from the filtered DataFrame\n",
    "    processed_df = remove_totals(filtered_df)\n",
    "    \n",
    "    # Step 3: Calculate the sums\n",
    "    sums_result = calculate_sums(processed_df)\n",
    "    \n",
    "    return sums_result\n",
    "\n",
    "# Example usage\n",
    "# Replace 'your_dataframe' with the actual DataFrame variable name\n",
    "# Replace 2022 and 'EXCEDENTE' with the desired values for year and riesgo\n",
    "your_sums_result = process_and_sum(df, 2023, 'EXCEDENTE')\n",
    "print(\"Prima:\", your_sums_result[0])\n",
    "print(\"Importe Comision:\", your_sums_result[1])\n",
    "print(\"A Favor:\", your_sums_result[2])"
   ]
  },
  {
   "cell_type": "code",
   "execution_count": null,
   "metadata": {},
   "outputs": [],
   "source": [
    "print(result_df.head())"
   ]
  },
  {
   "cell_type": "code",
   "execution_count": null,
   "metadata": {},
   "outputs": [],
   "source": [
    "# Change the column names for letters. Example: \"Unamed: 0\" to \"A\"\n",
    "result_df.columns = [chr(65 + i) for i in range(len(result_df.columns))]"
   ]
  },
  {
   "cell_type": "code",
   "execution_count": null,
   "metadata": {},
   "outputs": [],
   "source": [
    "# Remove all the rows that start with \"TOTAL:\" in the second column, and remove all empty rows\n",
    "result_df = result_df[~result_df.iloc[:, 1].astype(str).str.startswith('TOTAL:')].dropna(how='all')"
   ]
  },
  {
   "cell_type": "code",
   "execution_count": null,
   "metadata": {},
   "outputs": [],
   "source": [
    "# Suma los valores numéricos de las columnas H, la columna L y la columna M,\n",
    "# devuélveme los valores y almacénalos en variables \"prima\", \"importe_comision\" y \"a_favor\" respectivamente\n",
    "prima = pd.to_numeric(result_df['H'], errors='coerce').fillna(0).sum()\n",
    "importe_comision = pd.to_numeric(result_df['L'], errors='coerce').fillna(0).sum()\n",
    "a_favor = pd.to_numeric(result_df['M'], errors='coerce').fillna(0).sum()\n",
    "\n",
    "# Imprime los valores de las variables \"prima\", \"importe_comision\" y \"a_favor\"\n",
    "print(prima)\n",
    "print(importe_comision)\n",
    "print(a_favor)"
   ]
  },
  {
   "cell_type": "code",
   "execution_count": 4,
   "metadata": {},
   "outputs": [
    {
     "data": {
      "text/plain": [
       "\"\\n# Example usage\\n# Replace 'your_dataframe' with the actual DataFrame variable name\\n# Replace 2022 and 'EXCEDENTE' with the desired values for year and riesgo\\nyour_filtered_df = filter_dataframe_patrimoniales(df, 2023, 'EXCEDENTE')\\nif your_filtered_df is not None:\\n    print(your_filtered_df)\\n\""
      ]
     },
     "execution_count": 4,
     "metadata": {},
     "output_type": "execute_result"
    }
   ],
   "source": [
    "def filter_recuperos_patrimoniales(df, year, riesgo, vida=False):\n",
    "    # Initialize an empty list to store the selected DataFrames\n",
    "    selected_dfs = []\n",
    "\n",
    "    # Flags to track whether \"TOTAL:\" and \"Contrato:\" are found\n",
    "    total_found = False\n",
    "    contrato_found = False\n",
    "\n",
    "    # Iterate through the DataFrame\n",
    "    for i in range(len(df)):\n",
    "        # Check conditions for each row\n",
    "        # Qué secciones calcular: en este caso se excluyen VIDA y CAUCION\n",
    "        if (\n",
    "            df.iloc[i, 0] == \"Total Contrato:\" and\n",
    "            df.iloc[i, 2] == year and\n",
    "            not (df.iloc[i, 9]).split()[0] == \"VIDA\" and\n",
    "            not (df.iloc[i, 9]).split()[0] == \"CAUCION\" and\n",
    "            df.iloc[i, 3] == riesgo\n",
    "        ):\n",
    "            total_found = True\n",
    "            contrato_found = False\n",
    "        elif df.iloc[i, 0] == \"Contrato:\" or df.iloc[i, 1] == \"Resumen\":\n",
    "            contrato_found = True\n",
    "            total_found = False\n",
    "    \n",
    "        # Select rows between \"TOTAL:\" and \"Contrato:\"\n",
    "        if total_found and not contrato_found:\n",
    "            selected_dfs.append(df.iloc[i])\n",
    "\n",
    "    # Check if there are selected DataFrames\n",
    "    if selected_dfs:\n",
    "        # Concatenate the list of selected DataFrames into a single DataFrame\n",
    "        result_df = pd.concat(selected_dfs, axis=1).T\n",
    "\n",
    "        # Filter out rows that start with specific words in the first column\n",
    "        result_df = result_df[~result_df.iloc[:, 0].astype(str).str.startswith(('Póliza', 'Operador:'))]\n",
    "\n",
    "        # Filter out rows that in the third column start with specific words\n",
    "        result_df = result_df[~result_df.iloc[:, 2].astype(str).str.startswith(('REGIONAL', 'Listado', 'Emisiones', 'Anulaciones'))]\n",
    "\n",
    "        # Remove columns with all NaN values\n",
    "        result_df = result_df.dropna(axis=1, how='all')\n",
    "\n",
    "        # Change the column names for letters. Example: \"Unamed: 0\" to \"A\"\n",
    "        result_df.columns = [chr(65 + i) for i in range(len(result_df.columns))]\n",
    "\n",
    "        return result_df\n",
    "    else:\n",
    "        print(\"No matching rows found.\")\n",
    "        return None\n",
    "\"\"\"\n",
    "# Example usage\n",
    "# Replace 'your_dataframe' with the actual DataFrame variable name\n",
    "# Replace 2022 and 'EXCEDENTE' with the desired values for year and riesgo\n",
    "your_filtered_df = filter_recuperos_patrimoniales(df, 2023, 'EXCEDENTE')\n",
    "if your_filtered_df is not None:\n",
    "    print(your_filtered_df)\n",
    "\"\"\""
   ]
  },
  {
   "cell_type": "code",
   "execution_count": 18,
   "metadata": {},
   "outputs": [
    {
     "data": {
      "text/plain": [
       "\"\\n# Example usage\\n# Replace 'your_dataframe' with the actual DataFrame variable name\\nyour_processed_df = remove_totals_recuperos(your_dataframe)\\nprint(your_processed_df)\\n\""
      ]
     },
     "execution_count": 18,
     "metadata": {},
     "output_type": "execute_result"
    }
   ],
   "source": [
    "def remove_totals_recuperos(df):\n",
    "    # Remove all the rows that start with \"TOTAL:\" in the second column\n",
    "    result_df = df[~df.iloc[:, 0].astype(str).str.startswith('Total Contrato:')]\n",
    "    \n",
    "    # Remove all empty rows\n",
    "    result_df = result_df.dropna(how='all')\n",
    "\n",
    "    return result_df\n",
    "\"\"\"\n",
    "# Example usage\n",
    "# Replace 'your_dataframe' with the actual DataFrame variable name\n",
    "your_processed_df = remove_totals_recuperos(your_dataframe)\n",
    "print(your_processed_df)\n",
    "\"\"\""
   ]
  },
  {
   "cell_type": "code",
   "execution_count": 19,
   "metadata": {},
   "outputs": [],
   "source": [
    "def calculate_sums_recuperos(df):\n",
    "    # Suma los valores numéricos de las columnas H, la columna L y la columna M,\n",
    "    # devuélveme los valores y almacénalos en variables \"prima\", \"importe_comision\" y \"a_favor\" respectivamente\n",
    "    indemnizacion = pd.to_numeric(df['J'], errors='coerce').fillna(0).sum()\n",
    "    gastos = pd.to_numeric(df['M'], errors='coerce').fillna(0).sum()\n",
    "    importe_total = pd.to_numeric(df['O'], errors='coerce').fillna(0).sum()\n",
    "\n",
    "    return indemnizacion, gastos, importe_total"
   ]
  },
  {
   "cell_type": "code",
   "execution_count": 20,
   "metadata": {},
   "outputs": [],
   "source": [
    "recuperos_df = filter_recuperos_patrimoniales(df, 2023, 'EXCEDENTE', vida=False)"
   ]
  },
  {
   "cell_type": "code",
   "execution_count": 21,
   "metadata": {},
   "outputs": [],
   "source": [
    "no_totals_df = remove_totals_recuperos(recuperos_df)"
   ]
  },
  {
   "cell_type": "code",
   "execution_count": 17,
   "metadata": {},
   "outputs": [],
   "source": [
    "no_totals_df.to_excel('output_recuperos_no_totals.xlsx', index=False)"
   ]
  },
  {
   "cell_type": "code",
   "execution_count": 22,
   "metadata": {},
   "outputs": [
    {
     "name": "stdout",
     "output_type": "stream",
     "text": [
      "Indemnizacion: 625415637.0\n",
      "Gastos: 5675708.0\n",
      "Importe Total: 631091345.0\n"
     ]
    }
   ],
   "source": [
    "sums_result = calculate_sums_recuperos(no_totals_df)\n",
    "print(\"Indemnizacion:\", sums_result[0])\n",
    "print(\"Gastos:\", sums_result[1])\n",
    "print(\"Importe Total:\", sums_result[2])"
   ]
  },
  {
   "cell_type": "code",
   "execution_count": 8,
   "metadata": {},
   "outputs": [],
   "source": [
    "recuperos_df.to_excel('output_recuperos.xlsx', index=False)"
   ]
  }
 ],
 "metadata": {
  "kernelspec": {
   "display_name": ".venv",
   "language": "python",
   "name": "python3"
  },
  "language_info": {
   "codemirror_mode": {
    "name": "ipython",
    "version": 3
   },
   "file_extension": ".py",
   "mimetype": "text/x-python",
   "name": "python",
   "nbconvert_exporter": "python",
   "pygments_lexer": "ipython3",
   "version": "3.11.3"
  }
 },
 "nbformat": 4,
 "nbformat_minor": 2
}
