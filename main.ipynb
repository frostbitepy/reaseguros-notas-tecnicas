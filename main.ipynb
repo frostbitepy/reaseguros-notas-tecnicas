{
 "cells": [
  {
   "cell_type": "code",
   "execution_count": 1,
   "metadata": {},
   "outputs": [],
   "source": [
    "import pandas as pd\n",
    "import openpyxl"
   ]
  },
  {
   "cell_type": "code",
   "execution_count": 2,
   "metadata": {},
   "outputs": [],
   "source": [
    "# Read xlsx file and conver to dataframe\n",
    "df_emitidos = pd.read_excel('Emisiones.xlsx', sheet_name='Report')\n",
    "df_anulados = pd.read_excel('Anulaciones.xlsx', sheet_name='Report')\n",
    "df_recuperos = pd.read_excel('Recuperos.xlsx', sheet_name='Report')"
   ]
  },
  {
   "cell_type": "code",
   "execution_count": 3,
   "metadata": {},
   "outputs": [],
   "source": [
    "tasa = 4.5"
   ]
  },
  {
   "cell_type": "code",
   "execution_count": 4,
   "metadata": {},
   "outputs": [],
   "source": [
    "def filter_dataframe_vida(df, year, riesgo, vida=False):\n",
    "    # Initialize an empty list to store the selected DataFrames\n",
    "    selected_dfs = []\n",
    "\n",
    "    # Flags to track whether \"TOTAL:\" and \"Contrato:\" are found\n",
    "    total_found = False\n",
    "    contrato_found = False\n",
    "\n",
    "    # Iterate through the DataFrame\n",
    "    for i in range(len(df)):\n",
    "        # Check conditions for each row\n",
    "        # Qué secciones calcular: en este caso se excluyen VIDA y CAUCION\n",
    "        if (\n",
    "            df.iloc[i, 2] == \"TOTAL:\" and\n",
    "            df.iloc[i, 3] == year and\n",
    "            (df.iloc[i, 7]).split()[0] == \"VIDA\" and\n",
    "            not (df.iloc[i, 7]).split()[0] == \"CAUCION\" and\n",
    "            df.iloc[i, 4] == riesgo\n",
    "        ):\n",
    "            total_found = True\n",
    "            contrato_found = False\n",
    "        elif df.iloc[i, 2] == \"Contrato:\":\n",
    "            contrato_found = True\n",
    "            total_found = False\n",
    "    \n",
    "        # Select rows between \"TOTAL:\" and \"Contrato:\"\n",
    "        if total_found and not contrato_found:\n",
    "            selected_dfs.append(df.iloc[i])\n",
    "\n",
    "    # Check if there are selected DataFrames\n",
    "    if selected_dfs:\n",
    "        # Concatenate the list of selected DataFrames into a single DataFrame\n",
    "        result_df = pd.concat(selected_dfs, axis=1).T\n",
    "\n",
    "        # Filter out rows that start with specific words in the first column\n",
    "        result_df = result_df[~result_df.iloc[:, 0].astype(str).str.startswith(('Póliza', 'Operador:'))]\n",
    "\n",
    "        # Filter out rows that in the third column start with specific words\n",
    "        result_df = result_df[~result_df.iloc[:, 2].astype(str).str.startswith(('REGIONAL', 'Listado', 'Emisiones', 'Anulaciones'))]\n",
    "\n",
    "        # Remove columns with all NaN values\n",
    "        result_df = result_df.dropna(axis=1, how='all')\n",
    "\n",
    "        # Change the column names for letters. Example: \"Unamed: 0\" to \"A\"\n",
    "        result_df.columns = [chr(65 + i) for i in range(len(result_df.columns))]\n",
    "\n",
    "        return result_df\n",
    "    else:\n",
    "        print(\"No matching rows found.\")\n",
    "        return None\n",
    "\"\"\"\n",
    "# Example usage\n",
    "# Replace 'your_dataframe' with the actual DataFrame variable name\n",
    "# Replace 2022 and 'EXCEDENTE' with the desired values for year and riesgo\n",
    "your_filtered_df = filter_dataframe_vida(df, 2023, 'EXCEDENTE')\n",
    "if your_filtered_df is not None:\n",
    "    print(your_filtered_df)\n",
    "\"\"\"\n",
    "\n",
    "\n",
    "def filter_dataframe_patrimoniales(df, year, riesgo, vida=False):\n",
    "    # Initialize an empty list to store the selected DataFrames\n",
    "    selected_dfs = []\n",
    "\n",
    "    # Flags to track whether \"TOTAL:\" and \"Contrato:\" are found\n",
    "    total_found = False\n",
    "    contrato_found = False\n",
    "\n",
    "    # Iterate through the DataFrame\n",
    "    for i in range(len(df)):\n",
    "        # Check conditions for each row\n",
    "        # Qué secciones calcular: en este caso se excluyen VIDA y CAUCION\n",
    "        if (\n",
    "            df.iloc[i, 2] == \"TOTAL:\" and\n",
    "            df.iloc[i, 3] == year and\n",
    "            not (df.iloc[i, 7]).split()[0] == \"VIDA\" and\n",
    "            not (df.iloc[i, 7]).split()[0] == \"CAUCION\" and\n",
    "            df.iloc[i, 4] == riesgo\n",
    "        ):\n",
    "            total_found = True\n",
    "            contrato_found = False\n",
    "        elif df.iloc[i, 2] == \"Contrato:\":\n",
    "            contrato_found = True\n",
    "            total_found = False\n",
    "    \n",
    "        # Select rows between \"TOTAL:\" and \"Contrato:\"\n",
    "        if total_found and not contrato_found:\n",
    "            selected_dfs.append(df.iloc[i])\n",
    "\n",
    "    # Check if there are selected DataFrames\n",
    "    if selected_dfs:\n",
    "        # Concatenate the list of selected DataFrames into a single DataFrame\n",
    "        result_df = pd.concat(selected_dfs, axis=1).T\n",
    "\n",
    "        # Filter out rows that start with specific words in the first column\n",
    "        result_df = result_df[~result_df.iloc[:, 0].astype(str).str.startswith(('Póliza', 'Operador:'))]\n",
    "\n",
    "        # Filter out rows that in the third column start with specific words\n",
    "        result_df = result_df[~result_df.iloc[:, 2].astype(str).str.startswith(('REGIONAL', 'Listado', 'Emisiones', 'Anulaciones'))]\n",
    "\n",
    "        # Remove columns with all NaN values\n",
    "        result_df = result_df.dropna(axis=1, how='all')\n",
    "\n",
    "        # Change the column names for letters. Example: \"Unamed: 0\" to \"A\"\n",
    "        result_df.columns = [chr(65 + i) for i in range(len(result_df.columns))]\n",
    "\n",
    "        return result_df\n",
    "    else:\n",
    "        print(\"No matching rows found.\")\n",
    "        return None\n",
    "\"\"\"\n",
    "# Example usage\n",
    "# Replace 'your_dataframe' with the actual DataFrame variable name\n",
    "# Replace 2022 and 'EXCEDENTE' with the desired values for year and riesgo\n",
    "your_filtered_df = filter_dataframe_patrimoniales(df, 2023, 'EXCEDENTE')\n",
    "if your_filtered_df is not None:\n",
    "    print(your_filtered_df)\n",
    "\"\"\"\n",
    "\n",
    "\n",
    "def filter_recuperos_patrimoniales(df, year, riesgo, vida=False):\n",
    "    # Initialize an empty list to store the selected DataFrames\n",
    "    selected_dfs = []\n",
    "\n",
    "    # Flags to track whether \"TOTAL:\" and \"Contrato:\" are found\n",
    "    total_found = False\n",
    "    contrato_found = False\n",
    "\n",
    "    # Iterate through the DataFrame\n",
    "    for i in range(len(df)):\n",
    "        # Check conditions for each row\n",
    "        # Qué secciones calcular: en este caso se excluyen VIDA y CAUCION\n",
    "        if (\n",
    "            df.iloc[i, 0] == \"Total Contrato:\" and\n",
    "            df.iloc[i, 2] == year and\n",
    "            not (df.iloc[i, 9]).split()[0] == \"VIDA\" and\n",
    "            not (df.iloc[i, 9]).split()[0] == \"CAUCION\" and\n",
    "            df.iloc[i, 3] == riesgo\n",
    "        ):\n",
    "            total_found = True\n",
    "            contrato_found = False\n",
    "        elif df.iloc[i, 0] == \"Contrato:\" or df.iloc[i, 1] == \"Resumen\":\n",
    "            contrato_found = True\n",
    "            total_found = False\n",
    "    \n",
    "        # Select rows between \"TOTAL:\" and \"Contrato:\"\n",
    "        if total_found and not contrato_found:\n",
    "            selected_dfs.append(df.iloc[i])\n",
    "\n",
    "    # Check if there are selected DataFrames\n",
    "    if selected_dfs:\n",
    "        # Concatenate the list of selected DataFrames into a single DataFrame\n",
    "        result_df = pd.concat(selected_dfs, axis=1).T\n",
    "\n",
    "        # Filter out rows that start with specific words in the first column\n",
    "        result_df = result_df[~result_df.iloc[:, 0].astype(str).str.startswith(('Póliza', 'Operador:'))]\n",
    "\n",
    "        # Filter out rows that in the third column start with specific words\n",
    "        result_df = result_df[~result_df.iloc[:, 2].astype(str).str.startswith(('REGIONAL', 'Listado', 'Emisiones', 'Anulaciones'))]\n",
    "\n",
    "        # Remove columns with all NaN values\n",
    "        result_df = result_df.dropna(axis=1, how='all')\n",
    "\n",
    "        # Change the column names for letters. Example: \"Unamed: 0\" to \"A\"\n",
    "        result_df.columns = [chr(65 + i) for i in range(len(result_df.columns))]\n",
    "\n",
    "        return result_df\n",
    "    else:\n",
    "        print(\"No matching rows found.\")\n",
    "        return None\n",
    "\"\"\"\n",
    "# Example usage\n",
    "# Replace 'your_dataframe' with the actual DataFrame variable name\n",
    "# Replace 2022 and 'EXCEDENTE' with the desired values for year and riesgo\n",
    "your_filtered_df = filter_recuperos_patrimoniales(df, 2023, 'EXCEDENTE')\n",
    "if your_filtered_df is not None:\n",
    "    print(your_filtered_df)\n",
    "\"\"\"\n",
    "\n",
    "\n",
    "def filter_recuperos_vida(df, year, riesgo, vida=False):\n",
    "    # Initialize an empty list to store the selected DataFrames\n",
    "    selected_dfs = []\n",
    "\n",
    "    # Flags to track whether \"TOTAL:\" and \"Contrato:\" are found\n",
    "    total_found = False\n",
    "    contrato_found = False\n",
    "\n",
    "    # Iterate through the DataFrame\n",
    "    for i in range(len(df)):\n",
    "        # Check conditions for each row\n",
    "        # Qué secciones calcular: en este caso se excluyen VIDA y CAUCION\n",
    "        if (\n",
    "            df.iloc[i, 0] == \"Total Contrato:\" and\n",
    "            df.iloc[i, 2] == year and\n",
    "            (df.iloc[i, 9]).split()[0] == \"VIDA\" and\n",
    "            not (df.iloc[i, 9]).split()[0] == \"CAUCION\" and\n",
    "            df.iloc[i, 3] == riesgo\n",
    "        ):\n",
    "            total_found = True\n",
    "            contrato_found = False\n",
    "        elif df.iloc[i, 0] == \"Contrato:\" or df.iloc[i, 1] == \"Resumen\":\n",
    "            contrato_found = True\n",
    "            total_found = False\n",
    "    \n",
    "        # Select rows between \"TOTAL:\" and \"Contrato:\"\n",
    "        if total_found and not contrato_found:\n",
    "            selected_dfs.append(df.iloc[i])\n",
    "\n",
    "    # Check if there are selected DataFrames\n",
    "    if selected_dfs:\n",
    "        # Concatenate the list of selected DataFrames into a single DataFrame\n",
    "        result_df = pd.concat(selected_dfs, axis=1).T\n",
    "\n",
    "        # Filter out rows that start with specific words in the first column\n",
    "        result_df = result_df[~result_df.iloc[:, 0].astype(str).str.startswith(('Póliza', 'Operador:'))]\n",
    "\n",
    "        # Filter out rows that in the third column start with specific words\n",
    "        result_df = result_df[~result_df.iloc[:, 2].astype(str).str.startswith(('REGIONAL', 'Listado', 'Emisiones', 'Anulaciones'))]\n",
    "\n",
    "        # Remove columns with all NaN values\n",
    "        result_df = result_df.dropna(axis=1, how='all')\n",
    "\n",
    "        # Change the column names for letters. Example: \"Unamed: 0\" to \"A\"\n",
    "        result_df.columns = [chr(65 + i) for i in range(len(result_df.columns))]\n",
    "\n",
    "        return result_df\n",
    "    else:\n",
    "        print(\"No matching rows found.\")\n",
    "        return None\n",
    "\"\"\"\n",
    "# Example usage\n",
    "# Replace 'your_dataframe' with the actual DataFrame variable name\n",
    "# Replace 2022 and 'EXCEDENTE' with the desired values for year and riesgo\n",
    "your_filtered_df = filter_recuperos_patrimoniales(df, 2023, 'EXCEDENTE')\n",
    "if your_filtered_df is not None:\n",
    "    print(your_filtered_df)\n",
    "\"\"\"\n",
    "\n",
    "\n",
    "def remove_totals(df):\n",
    "    try:\n",
    "        # Remove all the rows that start with \"TOTAL:\" in the second column\n",
    "        result_df = df[~df.iloc[:, 1].astype(str).str.startswith('TOTAL:')]\n",
    "        \n",
    "        # Remove all empty rows\n",
    "        result_df = result_df.dropna(how='all')\n",
    "\n",
    "        return result_df\n",
    "    except Exception as e:\n",
    "        print(\"No matches found.\")\n",
    "        return None\n",
    "\n",
    "\"\"\"\n",
    "# Example usage\n",
    "# Replace 'your_dataframe' with the actual DataFrame variable name\n",
    "your_processed_df = process_dataframe(your_dataframe)\n",
    "print(your_processed_df)\n",
    "\"\"\"\n",
    "\n",
    "\n",
    "def remove_totals_recuperos(df):\n",
    "    try:\n",
    "        # Remove all the rows that start with \"Total Contrato:\" in the first column\n",
    "        result_df = df[~df.iloc[:, 0].astype(str).str.startswith('Total Contrato:')]\n",
    "        \n",
    "        # Remove all empty rows\n",
    "        result_df = result_df.dropna(how='all')\n",
    "\n",
    "        return result_df\n",
    "    except Exception as e:\n",
    "        print(\"No matches found.\")\n",
    "        return None\n",
    "\"\"\"\n",
    "# Example usage\n",
    "# Replace 'your_dataframe' with the actual DataFrame variable name\n",
    "your_processed_df = remove_totals_recuperos(your_dataframe)\n",
    "print(your_processed_df)\n",
    "\"\"\"\n",
    "\n",
    "\n",
    "def calculate_sums(df):\n",
    "    try:\n",
    "        # Suma los valores numéricos de las columnas H, la columna L y la columna M,\n",
    "        # devuelve los valores y los almacena en variables \"prima\", \"importe_comision\" y \"a_favor\" respectivamente\n",
    "        prima = pd.to_numeric(df['H'], errors='coerce').fillna(0).sum()\n",
    "        importe_comision = pd.to_numeric(df['L'], errors='coerce').fillna(0).sum()\n",
    "        a_favor = pd.to_numeric(df['M'], errors='coerce').fillna(0).sum()\n",
    "\n",
    "        # Return the calculated values as a dictionary\n",
    "        return {\n",
    "            'prima': prima,\n",
    "            'importe_comision': importe_comision,\n",
    "            'a_favor': a_favor\n",
    "        }\n",
    "    except Exception as e:\n",
    "        print(\"No matches found. Values set to 0\")\n",
    "        return {\n",
    "            'prima': 0,\n",
    "            'importe_comision': 0,\n",
    "            'a_favor': 0\n",
    "        }\n",
    "\"\"\"\n",
    "# Example usage\n",
    "# Replace 'your_dataframe' with the actual DataFrame variable name\n",
    "your_processed_df = process_dataframe(your_dataframe)\n",
    "prima_value, importe_comision_value, a_favor_value = calculate_sums(your_processed_df)\n",
    "print(prima_value, importe_comision_value, a_favor_value)\n",
    "\"\"\"\n",
    "\n",
    "\n",
    "def calculate_sums_recuperos(df):\n",
    "    try:\n",
    "        # Suma los valores numéricos de las columnas J, la columna M y la columna O,\n",
    "        # devuelve los valores y los almacena en variables \"indemnizacion\", \"gastos\" y \"importe_total\" respectivamente\n",
    "        indemnizacion = pd.to_numeric(df['J'], errors='coerce').fillna(0).sum()\n",
    "        gastos = pd.to_numeric(df['M'], errors='coerce').fillna(0).sum()\n",
    "        importe_total = pd.to_numeric(df['O'], errors='coerce').fillna(0).sum()\n",
    "\n",
    "        # Return the calculated values as a dictionary\n",
    "        return {\n",
    "            'indemnizacion': indemnizacion,\n",
    "            'gastos': gastos,\n",
    "            'importe_total': importe_total\n",
    "        }\n",
    "    except Exception as e:\n",
    "        print(\"No matches found. Values set to 0\")\n",
    "        return {\n",
    "            'indemnizacion': 0,\n",
    "            'gastos': 0,\n",
    "            'importe_total': 0\n",
    "        }"
   ]
  },
  {
   "cell_type": "code",
   "execution_count": 29,
   "metadata": {},
   "outputs": [],
   "source": [
    "def create_reaseguros_dict(df):\n",
    "    # Elimina las filas que tienen la palabra \"Reasegurador\" en la primera columna\n",
    "    filtered_df = df[df.iloc[:, 0] != 'Reasegurador']\n",
    "\n",
    "    # Obtén los valores únicos de la primera columna\n",
    "    unique_values_A = filtered_df.iloc[:, 0].unique()\n",
    "\n",
    "    # Crea un diccionario con valores de la primera columna como keys y sumas de las columnas 8, 12, 13 como values\n",
    "    result_dict = {}\n",
    "    for value in unique_values_A:\n",
    "        if pd.notna(value):  # Check if the value is not null or NaN\n",
    "            prima = filtered_df.loc[filtered_df.iloc[:, 0] == value, filtered_df.columns[7]].sum()\n",
    "            importe_comision = filtered_df.loc[filtered_df.iloc[:, 0] == value, filtered_df.columns[11]].sum()\n",
    "            a_favor = filtered_df.loc[filtered_df.iloc[:, 0] == value, filtered_df.columns[12]].sum()\n",
    "            result_dict[value] = {'prima': prima, 'importe_comision': importe_comision, 'a_favor': a_favor}\n",
    "\n",
    "    return result_dict\n",
    "\n",
    "def create_reaseguros_dict_recuperos(df):\n",
    "    # Elimina las filas que tienen la palabra \"Reasegurador\" en la primera columna\n",
    "    filtered_df = df[df.iloc[:, 4] != 'Reasegurador']\n",
    "\n",
    "    # Obtén los valores únicos de la primera columna\n",
    "    unique_values_A = filtered_df.iloc[:, 4].unique()\n",
    "\n",
    "    # Crea un diccionario con valores de la primera columna como keys y valores de la quinta columna como values\n",
    "    result_dict = {}\n",
    "    for value in unique_values_A:\n",
    "        # Verifica si la fila no está vacía antes de acceder a la quinta columna\n",
    "        if not filtered_df.loc[filtered_df.iloc[:, 4] == value, filtered_df.columns[5]].empty:\n",
    "            result_dict[value] = filtered_df.loc[filtered_df.iloc[:, 4] == value, filtered_df.columns[6]].values[0]\n",
    "    \n",
    "    return result_dict"
   ]
  },
  {
   "cell_type": "code",
   "execution_count": 6,
   "metadata": {},
   "outputs": [
    {
     "data": {
      "text/plain": [
       "'\\n# Example usage\\n# Replace \\'your_dataframe\\' with the actual DataFrame variable name\\n# Replace 2022 and \\'EXCEDENTE\\' with the desired values for year and riesgo\\nyour_sums_result = process_sum_recuperos_vida(df, 2023, \\'EXCEDENTE\\')\\nprint(\"Indemnizacion:\", your_sums_result[0])\\nprint(\"Gastos:\", your_sums_result[1])\\nprint(\"Importe Total:\", your_sums_result[2])\\n'"
      ]
     },
     "execution_count": 6,
     "metadata": {},
     "output_type": "execute_result"
    }
   ],
   "source": [
    "def process_and_sum_vida(df, year, riesgo):\n",
    "    # Step 1: Filter the DataFrame\n",
    "    filtered_df = filter_dataframe_vida(df, year, riesgo)\n",
    "\n",
    "    # Step 2: Generate reaseguros dictionary\n",
    "    reaseguros_dict = create_reaseguros_dict(filtered_df)\n",
    "    \n",
    "    # Step 3: Remove totals from the filtered DataFrame\n",
    "    processed_df = remove_totals(filtered_df)\n",
    "    \n",
    "    # Step 4: Calculate the sums\n",
    "    sums_result = calculate_sums(processed_df)\n",
    "    \n",
    "    return sums_result\n",
    "\"\"\"\n",
    "# Example usage\n",
    "# Replace 'your_dataframe' with the actual DataFrame variable name\n",
    "# Replace 2022 and 'EXCEDENTE' with the desired values for year and riesgo\n",
    "your_sums_result = process_and_sum_vida(df, 2023, 'EXCEDENTE')\n",
    "print(\"Prima:\", your_sums_result[0])\n",
    "print(\"Importe Comision:\", your_sums_result[1])\n",
    "print(\"A Favor:\", your_sums_result[2])\n",
    "\"\"\"\n",
    "\n",
    "\n",
    "def process_and_sum_patrimoniales(df, year, riesgo):\n",
    "    # Step 1: Filter the DataFrame\n",
    "    filtered_df = filter_dataframe_patrimoniales(df, year, riesgo)\n",
    "\n",
    "    # Step 2: Generate reaseguros dictionary\n",
    "    reaseguros_dict = create_reaseguros_dict(filtered_df)\n",
    "    \n",
    "    # Step 2: Remove totals from the filtered DataFrame\n",
    "    processed_df = remove_totals(filtered_df)\n",
    "    \n",
    "    # Step 3: Calculate the sums\n",
    "    sums_result = calculate_sums(processed_df)\n",
    "    \n",
    "    return sums_result, reaseguros_dict\n",
    "\"\"\"\n",
    "# Example usage\n",
    "# Replace 'your_dataframe' with the actual DataFrame variable name\n",
    "# Replace 2022 and 'EXCEDENTE' with the desired values for year and riesgo\n",
    "your_sums_result = process_and_sum_patrimoniales(df, 2023, 'EXCEDENTE')\n",
    "print(\"Prima:\", your_sums_result[0])\n",
    "print(\"Importe Comision:\", your_sums_result[1])\n",
    "print(\"A Favor:\", your_sums_result[2])\n",
    "\"\"\"\n",
    "\n",
    "\n",
    "def process_sum_recuperos_patrimoniales(df, year, riesgo):\n",
    "    # Step 1: Filter the DataFrame\n",
    "    filtered_df = filter_recuperos_patrimoniales(df, year, riesgo)\n",
    "\n",
    "    # Step 2: Generate reaseguros dictionary\n",
    "    reaseguros_dict = create_reaseguros_dict_recuperos(filtered_df)\n",
    "    \n",
    "    # Step 3: Remove totals from the filtered DataFrame\n",
    "    processed_df = remove_totals_recuperos(filtered_df)\n",
    "    \n",
    "    # Step 4: Calculate the sums\n",
    "    sums_result = calculate_sums_recuperos(processed_df)\n",
    "    \n",
    "    return sums_result, reaseguros_dict\n",
    "\"\"\"\n",
    "# Example usage\n",
    "# Replace 'your_dataframe' with the actual DataFrame variable name\n",
    "# Replace 2022 and 'EXCEDENTE' with the desired values for year and riesgo\n",
    "your_sums_result = process_sum_recuperos_patrimoniales(df, 2023, 'EXCEDENTE')\n",
    "print(\"Indemnizacion:\", your_sums_result[0])\n",
    "print(\"Gastos:\", your_sums_result[1])\n",
    "print(\"Importe Total:\", your_sums_result[2])\n",
    "\"\"\"\n",
    "\n",
    "\n",
    "def process_sum_recuperos_vida(df, year, riesgo):\n",
    "    # Step 1: Filter the DataFrame\n",
    "    filtered_df = filter_recuperos_vida(df, year, riesgo)\n",
    "\n",
    "    # Step 2: Generate reaseguros dictionary\n",
    "    reaseguros_dict = create_reaseguros_dict_recuperos(filtered_df)\n",
    "    \n",
    "    # Step 3: Remove totals from the filtered DataFrame\n",
    "    processed_df = remove_totals_recuperos(filtered_df)\n",
    "    \n",
    "    # Step 4: Calculate the sums\n",
    "    sums_result = calculate_sums_recuperos(processed_df)\n",
    "    \n",
    "    return sums_result, reaseguros_dict\n",
    "\"\"\"\n",
    "# Example usage\n",
    "# Replace 'your_dataframe' with the actual DataFrame variable name\n",
    "# Replace 2022 and 'EXCEDENTE' with the desired values for year and riesgo\n",
    "your_sums_result = process_sum_recuperos_vida(df, 2023, 'EXCEDENTE')\n",
    "print(\"Indemnizacion:\", your_sums_result[0])\n",
    "print(\"Gastos:\", your_sums_result[1])\n",
    "print(\"Importe Total:\", your_sums_result[2])\n",
    "\"\"\"\n"
   ]
  },
  {
   "cell_type": "code",
   "execution_count": 7,
   "metadata": {},
   "outputs": [
    {
     "data": {
      "text/plain": [
       "'\\n# Example usage:\\n# Replace the parameter values with actual values\\nresult_values = calculate_table_values(prima_qs, prima_exc, prima_anulada_qs, prima_anulada_exc,\\n                                            comisiones_qs, comisiones_exc, siniestros_qs, siniestros_exc, tasa)\\n'"
      ]
     },
     "execution_count": 7,
     "metadata": {},
     "output_type": "execute_result"
    }
   ],
   "source": [
    "def calculate_table_values(prima_qs, prima_exc, prima_anulada_qs, prima_anulada_exc,\n",
    "                               comisiones_qs, comisiones_exc, siniestros_qs, siniestros_exc, tasa):\n",
    "    # Calculate the values\n",
    "    primas_cedidas = prima_qs + prima_exc\n",
    "    primas_anuladas = prima_anulada_qs + prima_anulada_exc\n",
    "    comisiones = comisiones_qs + comisiones_exc\n",
    "    siniestros_pagados = siniestros_qs + siniestros_exc\n",
    "    impuestos = (primas_cedidas - (primas_anuladas + comisiones)) * tasa\n",
    "    balance_a_favor_debe = primas_anuladas + comisiones + siniestros_pagados + impuestos\n",
    "    balance_a_favor_haber = primas_cedidas\n",
    "\n",
    "    # Return the calculated values\n",
    "    return primas_cedidas, primas_anuladas, comisiones, siniestros_pagados, impuestos, balance_a_favor_debe, balance_a_favor_haber\n",
    "\"\"\"\n",
    "# Example usage:\n",
    "# Replace the parameter values with actual values\n",
    "result_values = calculate_table_values(prima_qs, prima_exc, prima_anulada_qs, prima_anulada_exc,\n",
    "                                            comisiones_qs, comisiones_exc, siniestros_qs, siniestros_exc, tasa)\n",
    "\"\"\""
   ]
  },
  {
   "cell_type": "code",
   "execution_count": 22,
   "metadata": {},
   "outputs": [],
   "source": [
    "test_df=filter_dataframe_patrimoniales(df_emitidos, 2023, 'EXCEDENTE')"
   ]
  },
  {
   "cell_type": "code",
   "execution_count": 23,
   "metadata": {},
   "outputs": [],
   "source": [
    "test_df.to_excel('test_emitidos_df.xlsx', index=False)"
   ]
  },
  {
   "cell_type": "code",
   "execution_count": 30,
   "metadata": {},
   "outputs": [
    {
     "name": "stdout",
     "output_type": "stream",
     "text": [
      "{'MS AMLIN AG': {'prima': 1087343123, 'importe_comision': 337076291, 'a_favor': 750266832}, 'SCOR REINSURANCE COMPANY': {'prima': 434937249, 'importe_comision': 108734290, 'a_favor': 326202959}, 'KOREAN REINSURANCE COMPANY': {'prima': 326202936, 'importe_comision': 110908972, 'a_favor': 215293964}, 'MAPFRE RE COMPAÑIA DE REASEGUROS S.A.': {'prima': 217468624, 'importe_comision': 69589944, 'a_favor': 147878680}, 'REASEGURADORA PATRIA S.A.': {'prima': 108734311, 'importe_comision': 30445601, 'a_favor': 78288710}}\n"
     ]
    }
   ],
   "source": [
    "print(create_reaseguros_dict(test_df))"
   ]
  },
  {
   "cell_type": "code",
   "execution_count": 11,
   "metadata": {},
   "outputs": [
    {
     "name": "stdout",
     "output_type": "stream",
     "text": [
      "No matching rows found.\n"
     ]
    },
    {
     "ename": "AttributeError",
     "evalue": "'NoneType' object has no attribute 'iloc'",
     "output_type": "error",
     "traceback": [
      "\u001b[1;31m---------------------------------------------------------------------------\u001b[0m",
      "\u001b[1;31mAttributeError\u001b[0m                            Traceback (most recent call last)",
      "Cell \u001b[1;32mIn[11], line 1\u001b[0m\n\u001b[1;32m----> 1\u001b[0m emitidos_cuota_parte_2021 \u001b[38;5;241m=\u001b[39m \u001b[43mprocess_and_sum_patrimoniales\u001b[49m\u001b[43m(\u001b[49m\u001b[43mdf_emitidos\u001b[49m\u001b[43m,\u001b[49m\u001b[43m \u001b[49m\u001b[38;5;241;43m2021\u001b[39;49m\u001b[43m,\u001b[49m\u001b[43m \u001b[49m\u001b[38;5;124;43m'\u001b[39;49m\u001b[38;5;124;43mCUOTA PARTE\u001b[39;49m\u001b[38;5;124;43m'\u001b[39;49m\u001b[43m)\u001b[49m\n\u001b[0;32m      2\u001b[0m anulados_cuota_parte_2021 \u001b[38;5;241m=\u001b[39m process_and_sum_patrimoniales(df_anulados, \u001b[38;5;241m2021\u001b[39m, \u001b[38;5;124m'\u001b[39m\u001b[38;5;124mCUOTA PARTE\u001b[39m\u001b[38;5;124m'\u001b[39m)\n\u001b[0;32m      3\u001b[0m recuperos_cuota_parte_2021 \u001b[38;5;241m=\u001b[39m process_sum_recuperos_patrimoniales(df_recuperos, \u001b[38;5;241m2021\u001b[39m, \u001b[38;5;124m'\u001b[39m\u001b[38;5;124mCUOTA PARTE\u001b[39m\u001b[38;5;124m'\u001b[39m)\n",
      "Cell \u001b[1;32mIn[6], line 31\u001b[0m, in \u001b[0;36mprocess_and_sum_patrimoniales\u001b[1;34m(df, year, riesgo)\u001b[0m\n\u001b[0;32m     28\u001b[0m filtered_df \u001b[38;5;241m=\u001b[39m filter_dataframe_patrimoniales(df, year, riesgo)\n\u001b[0;32m     30\u001b[0m \u001b[38;5;66;03m# Step 2: Generate reaseguros dictionary\u001b[39;00m\n\u001b[1;32m---> 31\u001b[0m reaseguros_dict \u001b[38;5;241m=\u001b[39m \u001b[43mcreate_reaseguros_dict\u001b[49m\u001b[43m(\u001b[49m\u001b[43mfiltered_df\u001b[49m\u001b[43m)\u001b[49m\n\u001b[0;32m     33\u001b[0m \u001b[38;5;66;03m# Step 2: Remove totals from the filtered DataFrame\u001b[39;00m\n\u001b[0;32m     34\u001b[0m processed_df \u001b[38;5;241m=\u001b[39m remove_totals(filtered_df)\n",
      "Cell \u001b[1;32mIn[5], line 3\u001b[0m, in \u001b[0;36mcreate_reaseguros_dict\u001b[1;34m(df)\u001b[0m\n\u001b[0;32m      1\u001b[0m \u001b[38;5;28;01mdef\u001b[39;00m \u001b[38;5;21mcreate_reaseguros_dict\u001b[39m(df):\n\u001b[0;32m      2\u001b[0m     \u001b[38;5;66;03m# Elimina las filas que tienen la palabra \"Reasegurador\" en la primera columna\u001b[39;00m\n\u001b[1;32m----> 3\u001b[0m     filtered_df \u001b[38;5;241m=\u001b[39m df[\u001b[43mdf\u001b[49m\u001b[38;5;241;43m.\u001b[39;49m\u001b[43miloc\u001b[49m[:, \u001b[38;5;241m0\u001b[39m] \u001b[38;5;241m!=\u001b[39m \u001b[38;5;124m'\u001b[39m\u001b[38;5;124mReasegurador\u001b[39m\u001b[38;5;124m'\u001b[39m]\n\u001b[0;32m      5\u001b[0m     \u001b[38;5;66;03m# Obtén los valores únicos de la primera columna\u001b[39;00m\n\u001b[0;32m      6\u001b[0m     unique_values_A \u001b[38;5;241m=\u001b[39m filtered_df\u001b[38;5;241m.\u001b[39miloc[:, \u001b[38;5;241m0\u001b[39m]\u001b[38;5;241m.\u001b[39munique()\n",
      "\u001b[1;31mAttributeError\u001b[0m: 'NoneType' object has no attribute 'iloc'"
     ]
    }
   ],
   "source": [
    "emitidos_cuota_parte_2021 = process_and_sum_patrimoniales(df_emitidos, 2021, 'CUOTA PARTE')\n",
    "anulados_cuota_parte_2021 = process_and_sum_patrimoniales(df_anulados, 2021, 'CUOTA PARTE')\n",
    "recuperos_cuota_parte_2021 = process_sum_recuperos_patrimoniales(df_recuperos, 2021, 'CUOTA PARTE')"
   ]
  },
  {
   "cell_type": "code",
   "execution_count": null,
   "metadata": {},
   "outputs": [
    {
     "name": "stdout",
     "output_type": "stream",
     "text": [
      "{'prima': 0, 'importe_comision': 0, 'a_favor': 0}\n",
      "{'prima': 4911354.0, 'importe_comision': 1701770.0, 'a_favor': 3209584.0}\n",
      "{'indemnizacion': 289879239.0, 'gastos': 575051.0, 'importe_total': 290454290.0}\n"
     ]
    }
   ],
   "source": [
    "print(emitidos_cuota_parte_2021)\n",
    "print(anulados_cuota_parte_2021)\n",
    "print(recuperos_cuota_parte_2021)"
   ]
  },
  {
   "cell_type": "code",
   "execution_count": null,
   "metadata": {},
   "outputs": [],
   "source": [
    "emitidos_cuota_parte_2023 = process_and_sum_patrimoniales(df_emitidos, 2023, 'CUOTA PARTE')\n",
    "anulados_cuota_parte_2023 = process_and_sum_patrimoniales(df_anulados, 2023, 'CUOTA PARTE')\n",
    "recuperos_cuota_parte_2023 = process_sum_recuperos_patrimoniales(df_recuperos, 2023, 'CUOTA PARTE')\n"
   ]
  },
  {
   "cell_type": "code",
   "execution_count": null,
   "metadata": {},
   "outputs": [],
   "source": [
    "emitidos_excedente_2023 = process_and_sum_patrimoniales(df_emitidos, 2023, 'EXCEDENTE')\n",
    "anulados_excedente_2023 = process_and_sum_patrimoniales(df_anulados, 2023, 'EXCEDENTE')\n",
    "recuperos_excedente_2023 = process_sum_recuperos_patrimoniales(df_recuperos, 2023, 'EXCEDENTE')"
   ]
  },
  {
   "cell_type": "code",
   "execution_count": null,
   "metadata": {},
   "outputs": [],
   "source": [
    "# Emitidos CUOTA PARTE 2023\n",
    "prima_emitidos_qs_2023 = emitidos_cuota_parte_2023['prima']\n",
    "importe_comision_emitidos_qs_2023 = emitidos_cuota_parte_2023['importe_comision']\n",
    "# Anulados CUOTA PARTE 2023\n",
    "prima_anulados_qs_2023 = anulados_cuota_parte_2023['prima']\n",
    "importe_comision_anulados_qs_2023 = anulados_cuota_parte_2023['importe_comision']\n",
    "# Recuperos CUOTA PARTE 2023\n",
    "indemnizacion_recuperos_qs_2023 = recuperos_cuota_parte_2023['indemnizacion']\n",
    "gastos_recuperos_qs_2023 = recuperos_cuota_parte_2023['gastos']\n",
    "importe_total_recuperos_qs_2023 = recuperos_cuota_parte_2023['importe_total']"
   ]
  },
  {
   "cell_type": "code",
   "execution_count": null,
   "metadata": {},
   "outputs": [],
   "source": [
    "# Emitidos EXCEDENTE 2023\n",
    "prima_emitidos_excedente_2023 = emitidos_excedente_2023['prima']\n",
    "importe_comision_emitidos_excedente_2023 = emitidos_excedente_2023['importe_comision']\n",
    "# Anulados EXCEDENTE 2023\n",
    "prima_anulados_excedente_2023 = anulados_excedente_2023['prima']\n",
    "importe_comision_anulados_excedente_2023 = anulados_excedente_2023['importe_comision']\n",
    "# Recuperos EXCEDENTE 2023\n",
    "indemnizacion_recuperos_excedente_2023 = recuperos_excedente_2023['indemnizacion']\n",
    "gastos_recuperos_excedente_2023 = recuperos_excedente_2023['gastos']\n",
    "importe_total_recuperos_excedente_2023 = recuperos_excedente_2023['importe_total']"
   ]
  },
  {
   "cell_type": "code",
   "execution_count": null,
   "metadata": {},
   "outputs": [
    {
     "name": "stdout",
     "output_type": "stream",
     "text": [
      "prima_emitidos_excedente_2023: 2174686243.0\n",
      "importe_comision_emitidos_excedente_2023: 656755098.0\n",
      "prima_anulados_excedente_2023: 222174885.0\n",
      "importe_comision_anulados_excedente_2023: 67096913.0\n",
      "indemnizacion_recuperos_excedente_2023: 638095112.0\n",
      "gastos_recuperos_excedente_2023: 16133964.0\n",
      "importe_total_recuperos_excedente_2023: 654229076.0\n"
     ]
    }
   ],
   "source": [
    "print(\"prima_emitidos_excedente_2023:\", prima_emitidos_excedente_2023)\n",
    "print(\"importe_comision_emitidos_excedente_2023:\", importe_comision_emitidos_excedente_2023)\n",
    "print(\"prima_anulados_excedente_2023:\", prima_anulados_excedente_2023)\n",
    "print(\"importe_comision_anulados_excedente_2023:\", importe_comision_anulados_excedente_2023)\n",
    "print(\"indemnizacion_recuperos_excedente_2023:\", indemnizacion_recuperos_excedente_2023)\n",
    "print(\"gastos_recuperos_excedente_2023:\", gastos_recuperos_excedente_2023)\n",
    "print(\"importe_total_recuperos_excedente_2023:\", importe_total_recuperos_excedente_2023)"
   ]
  },
  {
   "cell_type": "code",
   "execution_count": null,
   "metadata": {},
   "outputs": [],
   "source": [
    "prima_qs = prima_emitidos_qs_2023\n",
    "prima_exc = prima_emitidos_excedente_2023\n",
    "prima_anulada_qs = prima_anulados_qs_2023\n",
    "prima_anulada_exc = prima_anulados_excedente_2023\n",
    "comisiones_qs = importe_comision_emitidos_qs_2023-importe_comision_anulados_qs_2023\n",
    "comisiones_exc = importe_comision_emitidos_excedente_2023-importe_comision_anulados_excedente_2023\n",
    "siniestros_qs = indemnizacion_recuperos_qs_2023\n",
    "siniestros_exc = indemnizacion_recuperos_excedente_2023"
   ]
  },
  {
   "cell_type": "code",
   "execution_count": null,
   "metadata": {},
   "outputs": [
    {
     "name": "stdout",
     "output_type": "stream",
     "text": [
      "prima_qs: 2799208423.0\n",
      "prima_exc: 2174686243.0\n",
      "prima_anulada_qs: 193979440.0\n",
      "prima_anulada_exc: 222174885.0\n",
      "comisiones_qs: 818042261.0\n",
      "comisiones_exc: 589658185.0\n",
      "siniestros_qs: 625415637.0\n",
      "siniestros_exc: 638095112.0\n"
     ]
    }
   ],
   "source": [
    "print(\"prima_qs:\", prima_qs)\n",
    "print(\"prima_exc:\", prima_exc)\n",
    "print(\"prima_anulada_qs:\", prima_anulada_qs)\n",
    "print(\"prima_anulada_exc:\", prima_anulada_exc)\n",
    "print(\"comisiones_qs:\", comisiones_qs)\n",
    "print(\"comisiones_exc:\", comisiones_exc)\n",
    "print(\"siniestros_qs:\", siniestros_qs)\n",
    "print(\"siniestros_exc:\", siniestros_exc)"
   ]
  },
  {
   "cell_type": "code",
   "execution_count": null,
   "metadata": {},
   "outputs": [],
   "source": [
    "def calculate_resumen_values(emitidos_qs, anulados_qs, recuperos_qs, emitidos_exc, anulados_exc, recuperos_exc):\n",
    "    prima_qs = emitidos_qs['prima']\n",
    "    prima_exc = emitidos_exc['prima']\n",
    "    prima_anulada_qs = anulados_qs['prima']\n",
    "    prima_anulada_exc = anulados_exc['prima']\n",
    "    comisiones_qs = emitidos_qs['importe_comision'] - anulados_qs['importe_comision']\n",
    "    comisiones_exc = emitidos_exc['importe_comision'] - anulados_exc['importe_comision']\n",
    "    siniestros_qs = recuperos_qs['indemnizacion']\n",
    "    siniestros_exc = recuperos_exc['indemnizacion']\n",
    "\n",
    "    return {\n",
    "        'prima_qs': prima_qs,\n",
    "        'prima_exc': prima_exc,\n",
    "        'prima_anulada_qs': prima_anulada_qs,\n",
    "        'prima_anulada_exc': prima_anulada_exc,\n",
    "        'comisiones_qs': comisiones_qs,\n",
    "        'comisiones_exc': comisiones_exc,\n",
    "        'siniestros_qs': siniestros_qs,\n",
    "        'siniestros_exc': siniestros_exc\n",
    "    }"
   ]
  },
  {
   "cell_type": "code",
   "execution_count": null,
   "metadata": {},
   "outputs": [
    {
     "name": "stdout",
     "output_type": "stream",
     "text": [
      "{'prima_qs': 2799208423.0, 'prima_exc': 2174686243.0, 'prima_anulada_qs': 193979440.0, 'prima_anulada_exc': 222174885.0, 'comisiones_qs': 818042261.0, 'comisiones_exc': 589658185.0, 'siniestros_qs': 625415637.0, 'siniestros_exc': 638095112.0}\n"
     ]
    }
   ],
   "source": [
    "# Calclulate resumen values\n",
    "resumen_values = calculate_resumen_values(emitidos_cuota_parte_2023, anulados_cuota_parte_2023, recuperos_cuota_parte_2023,\n",
    "                                          emitidos_excedente_2023, anulados_excedente_2023, recuperos_excedente_2023)\n",
    "print(resumen_values)"
   ]
  },
  {
   "cell_type": "code",
   "execution_count": null,
   "metadata": {},
   "outputs": [],
   "source": [
    "def calculate_table_values(prima_qs, prima_exc, prima_anulada_qs, prima_anulada_exc,\n",
    "                               comisiones_qs, comisiones_exc, siniestros_qs, siniestros_exc, tasa):\n",
    "    # Calculate the values\n",
    "    primas_cedidas = prima_qs + prima_exc\n",
    "    primas_anuladas = prima_anulada_qs + prima_anulada_exc\n",
    "    comisiones = comisiones_qs + comisiones_exc\n",
    "    siniestros_pagados = siniestros_qs + siniestros_exc\n",
    "    impuestos = (primas_cedidas - (primas_anuladas + comisiones)) * tasa\n",
    "    balance_a_favor_debe = primas_anuladas + comisiones + siniestros_pagados + impuestos\n",
    "    balance_a_favor_haber = primas_cedidas\n",
    "\n",
    "    # Return the calculated values\n",
    "    return primas_cedidas, primas_anuladas, comisiones, siniestros_pagados, impuestos, balance_a_favor_debe, balance_a_favor_haber\n",
    "\n",
    "# Example usage:\n",
    "# Replace the parameter values with actual values\n",
    "result_values = calculate_table_values(prima_qs, prima_exc, prima_anulada_qs, prima_anulada_exc,\n",
    "                                            comisiones_qs, comisiones_exc, siniestros_qs, siniestros_exc, tasa)\n",
    "\n",
    "# Access the calculated values\n",
    "primas_cedidas, primas_anuladas, comisiones, siniestros_pagados, impuestos, balance_a_favor_debe, balance_a_favor_haber = result_values"
   ]
  },
  {
   "cell_type": "code",
   "execution_count": null,
   "metadata": {},
   "outputs": [
    {
     "name": "stdout",
     "output_type": "stream",
     "text": [
      "(4973894666.0, 416154325.0, 1407700446.0, 1263510749.0, 14175179527.5, 17262545047.5, 4973894666.0)\n"
     ]
    }
   ],
   "source": [
    "print(result_values)"
   ]
  },
  {
   "cell_type": "code",
   "execution_count": null,
   "metadata": {},
   "outputs": [
    {
     "data": {
      "text/plain": [
       "'\\nprima_qs = \"{:,.0f}\".format(prima_emitidos_qs_2023).replace(\\',\\', \\'.\\')\\nprima_exc = \"{:,.0f}\".format(prima_emitidos_excedente_2023).replace(\\',\\', \\'.\\')\\nprima_anulada_qs = \"{:,.0f}\".format(prima_anulados_qs_2023).replace(\\',\\', \\'.\\')\\nprima_anulada_exc = \"{:,.0f}\".format(prima_anulados_excedente_2023).replace(\\',\\', \\'.\\')\\ncomisiones_qs = \"{:,.0f}\".format(importe_comision_emitidos_qs_2023 - importe_comision_anulados_qs_2023).replace(\\',\\', \\'.\\')\\ncomisiones_exc = \"{:,.0f}\".format(importe_comision_emitidos_excedente_2023 - importe_comision_anulados_excedente_2023).replace(\\',\\', \\'.\\')\\nsiniestros_qs = \"{:,.0f}\".format(indemnizacion_recuperos_qs_2023).replace(\\',\\', \\'.\\')\\nsiniestros_exc = \"{:,.0f}\".format(indemnizacion_recuperos_excedente_2023).replace(\\',\\', \\'.\\')\\n'"
      ]
     },
     "execution_count": 21,
     "metadata": {},
     "output_type": "execute_result"
    }
   ],
   "source": [
    "\"\"\"\n",
    "prima_qs = \"{:,.0f}\".format(prima_emitidos_qs_2023).replace(',', '.')\n",
    "prima_exc = \"{:,.0f}\".format(prima_emitidos_excedente_2023).replace(',', '.')\n",
    "prima_anulada_qs = \"{:,.0f}\".format(prima_anulados_qs_2023).replace(',', '.')\n",
    "prima_anulada_exc = \"{:,.0f}\".format(prima_anulados_excedente_2023).replace(',', '.')\n",
    "comisiones_qs = \"{:,.0f}\".format(importe_comision_emitidos_qs_2023 - importe_comision_anulados_qs_2023).replace(',', '.')\n",
    "comisiones_exc = \"{:,.0f}\".format(importe_comision_emitidos_excedente_2023 - importe_comision_anulados_excedente_2023).replace(',', '.')\n",
    "siniestros_qs = \"{:,.0f}\".format(indemnizacion_recuperos_qs_2023).replace(',', '.')\n",
    "siniestros_exc = \"{:,.0f}\".format(indemnizacion_recuperos_excedente_2023).replace(',', '.')\n",
    "\"\"\""
   ]
  },
  {
   "cell_type": "code",
   "execution_count": null,
   "metadata": {},
   "outputs": [
    {
     "name": "stdout",
     "output_type": "stream",
     "text": [
      "Vigencia/Contrato: 2023\n",
      "Prima cedida en el periodo (QS): 2799208423.0\n",
      "Prima cedida en el periodo (EXCEDENTE): 2174686243.0\n",
      "Prima anulada en el periodo (QS): 193979440.0\n",
      "Prima anulada en el periodo (EXCEDENTE): 222174885.0\n",
      "Comisiones(QS): 818042261.0\n",
      "Comisiones(EXCEDENTE): 589658185.0\n",
      "Siniestros pagados en el periodos (QS): 625415637.0\n",
      "Siniestros pagados en el periodos (EXCEDENTE): 638095112.0\n"
     ]
    }
   ],
   "source": [
    "# Imprimir resultados\n",
    "print(\"Vigencia/Contrato: 2023\")\n",
    "print(\"Prima cedida en el periodo (QS):\", prima_qs)\n",
    "print(\"Prima cedida en el periodo (EXCEDENTE):\", prima_exc)\n",
    "print(\"Prima anulada en el periodo (QS):\", prima_anulada_qs)\n",
    "print(\"Prima anulada en el periodo (EXCEDENTE):\", prima_anulada_exc)\n",
    "print(\"Comisiones(QS):\", (comisiones_qs))\n",
    "print(\"Comisiones(EXCEDENTE):\", (comisiones_exc)) \n",
    "print(\"Siniestros pagados en el periodos (QS):\", siniestros_qs)\n",
    "print(\"Siniestros pagados en el periodos (EXCEDENTE):\", siniestros_exc)\n"
   ]
  },
  {
   "cell_type": "code",
   "execution_count": null,
   "metadata": {},
   "outputs": [],
   "source": [
    "primas_cedidas = prima_qs + prima_exc\n",
    "primas_anuladas = prima_anulada_qs + prima_anulada_exc\n",
    "comisiones = comisiones_qs + comisiones_exc\n",
    "siniestros_pagados = siniestros_qs + siniestros_exc\n",
    "impuestos = (primas_cedidas - (primas_anuladas + comisiones)) * tasa\n",
    "balance_a_favor_debe = primas_anuladas + comisiones + siniestros_pagados + impuestos\n",
    "balance_a_favor_haber = primas_cedidas"
   ]
  },
  {
   "cell_type": "code",
   "execution_count": null,
   "metadata": {},
   "outputs": [
    {
     "name": "stdout",
     "output_type": "stream",
     "text": [
      "Primas cedidas: 4973894666.0\n",
      "Primas anuladas: 416154325.0\n",
      "Comisiones: 1407700446.0\n",
      "Siniestros pagados: 1263510749.0\n",
      "Impuestos: 14175179527.5\n",
      "Balance a favor (Debe): 17262545047.5\n",
      "Balance a favor (Haber): 4973894666.0\n"
     ]
    }
   ],
   "source": [
    "print(\"Primas cedidas:\", primas_cedidas)\n",
    "print(\"Primas anuladas:\", primas_anuladas)\n",
    "print(\"Comisiones:\", comisiones)\n",
    "print(\"Siniestros pagados:\", siniestros_pagados)\n",
    "print(\"Impuestos:\", impuestos)\n",
    "print(\"Balance a favor (Debe):\", balance_a_favor_debe)\n",
    "print(\"Balance a favor (Haber):\", balance_a_favor_haber)\n"
   ]
  },
  {
   "cell_type": "code",
   "execution_count": null,
   "metadata": {},
   "outputs": [
    {
     "name": "stdout",
     "output_type": "stream",
     "text": [
      "Vigencia/Contrato: 2023\n",
      "Prima cedida en el periodo (QS):              2799208423.0\n",
      "Prima cedida en el periodo (EXCEDENTE):       2174686243.0\n",
      "Prima anulada en el periodo (QS):             193979440.0\n",
      "Prima anulada en el periodo (EXCEDENTE):      222174885.0\n",
      "Comisiones(QS):                               818042261.0\n",
      "Comisiones(EXCEDENTE):                        589658185.0\n",
      "Siniestros pagados en el periodos (QS):       625415637.0\n",
      "Siniestros pagados en el periodos (EXCEDENTE): 638095112.0\n"
     ]
    }
   ],
   "source": [
    "def print_results_resumen(year, prima_qs, prima_exc, prima_anulada_qs, prima_anulada_exc,\n",
    "                  comisiones_qs, comisiones_exc, siniestros_qs, siniestros_exc):\n",
    "    # Print header\n",
    "    print(f\"Vigencia/Contrato: {year}\")\n",
    "    \n",
    "    # Define the data to be printed\n",
    "    data = [\n",
    "        (\"Prima cedida en el periodo (QS):\", prima_qs),\n",
    "        (\"Prima cedida en el periodo (EXCEDENTE):\", prima_exc),\n",
    "        (\"Prima anulada en el periodo (QS):\", prima_anulada_qs),\n",
    "        (\"Prima anulada en el periodo (EXCEDENTE):\", prima_anulada_exc),\n",
    "        (\"Comisiones(QS):\", comisiones_qs),\n",
    "        (\"Comisiones(EXCEDENTE):\", comisiones_exc),\n",
    "        (\"Siniestros pagados en el periodos (QS):\", siniestros_qs),\n",
    "        (\"Siniestros pagados en el periodos (EXCEDENTE):\", siniestros_exc)\n",
    "    ]\n",
    "\n",
    "    # Print the table\n",
    "    for label, value in data:\n",
    "        print(f\"{label:<45} {value}\")\n",
    "\n",
    "# Example usage\n",
    "# Replace the variables with actual values\n",
    "print_results_resumen(2023, prima_qs, prima_exc, prima_anulada_qs, prima_anulada_exc,\n",
    "              comisiones_qs, comisiones_exc, siniestros_qs, siniestros_exc)"
   ]
  },
  {
   "cell_type": "code",
   "execution_count": null,
   "metadata": {},
   "outputs": [
    {
     "name": "stdout",
     "output_type": "stream",
     "text": [
      "CONCEPTO                           DEBE                HABER               \n",
      "Primas cedidas                                         4973894666.0        \n",
      "Primas anuladas                    416154325.0                             \n",
      "Comisiones                         1407700446.0                            \n",
      "Siniestros pagados                 1263510749.0                            \n",
      "Impuestos                          14175179527.5                           \n",
      "Balance a favor                    17262545047.5       4973894666.0        \n"
     ]
    }
   ],
   "source": [
    "def print_debe_haber_table(primas_cedidas, primas_anuladas, comisiones, siniestros_pagados, impuestos, balance_a_favor_debe, balance_a_favor_haber):\n",
    "    # Print header\n",
    "    print(f\"{'CONCEPTO':<35}{'DEBE':<20}{'HABER':<20}\")\n",
    "\n",
    "    # Define the data to be printed\n",
    "    data = [\n",
    "        (\"Primas cedidas\", \"\", primas_cedidas),\n",
    "        (\"Primas anuladas\", primas_anuladas, \"\"),\n",
    "        (\"Comisiones\", comisiones, \"\"),\n",
    "        (\"Siniestros pagados\", siniestros_pagados, \"\"),\n",
    "        (\"Impuestos\", impuestos, \"\"),\n",
    "        (\"Balance a favor\", balance_a_favor_debe, balance_a_favor_haber)\n",
    "    ]\n",
    "\n",
    "    # Print the table\n",
    "    for concept, debe_value, haber_value in data:\n",
    "        print(f\"{concept:<35}{debe_value:<20}{haber_value:<20}\")\n",
    "\n",
    "# Example usage\n",
    "# Replace the variables with actual values\n",
    "print_debe_haber_table(\n",
    "    primas_cedidas,\n",
    "    primas_anuladas,\n",
    "    comisiones,\n",
    "    siniestros_pagados,\n",
    "    impuestos,\n",
    "    balance_a_favor_debe,\n",
    "    balance_a_favor_haber\n",
    ")"
   ]
  }
 ],
 "metadata": {
  "kernelspec": {
   "display_name": ".venv",
   "language": "python",
   "name": "python3"
  },
  "language_info": {
   "codemirror_mode": {
    "name": "ipython",
    "version": 3
   },
   "file_extension": ".py",
   "mimetype": "text/x-python",
   "name": "python",
   "nbconvert_exporter": "python",
   "pygments_lexer": "ipython3",
   "version": "3.11.3"
  }
 },
 "nbformat": 4,
 "nbformat_minor": 2
}
