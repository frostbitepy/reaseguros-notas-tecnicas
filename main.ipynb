{
 "cells": [
  {
   "cell_type": "code",
   "execution_count": 1,
   "metadata": {},
   "outputs": [],
   "source": [
    "import pandas as pd\n",
    "import openpyxl"
   ]
  },
  {
   "cell_type": "code",
   "execution_count": 47,
   "metadata": {},
   "outputs": [],
   "source": [
    "# Read xlsx file and conver to dataframe\n",
    "df = pd.read_excel('Anulaciones.xlsx', sheet_name='Report')"
   ]
  },
  {
   "cell_type": "code",
   "execution_count": 43,
   "metadata": {},
   "outputs": [
    {
     "data": {
      "text/plain": [
       "\"\\n# Example usage\\n# Replace 'your_dataframe' with the actual DataFrame variable name\\nyour_processed_df = process_dataframe(your_dataframe)\\nprima_value, importe_comision_value, a_favor_value = calculate_sums(your_processed_df)\\nprint(prima_value, importe_comision_value, a_favor_value)\\n\""
      ]
     },
     "execution_count": 43,
     "metadata": {},
     "output_type": "execute_result"
    }
   ],
   "source": [
    "def filter_dataframe_vida(df, year, riesgo, vida=False):\n",
    "    # Initialize an empty list to store the selected DataFrames\n",
    "    selected_dfs = []\n",
    "\n",
    "    # Flags to track whether \"TOTAL:\" and \"Contrato:\" are found\n",
    "    total_found = False\n",
    "    contrato_found = False\n",
    "\n",
    "    # Iterate through the DataFrame\n",
    "    for i in range(len(df)):\n",
    "        # Check conditions for each row\n",
    "        if (\n",
    "            df.iloc[i, 2] == \"TOTAL:\" and\n",
    "            df.iloc[i, 3] == year and\n",
    "            (df.iloc[i, 7]).split()[0] == \"VIDA\" and\n",
    "            not (df.iloc[i, 7]).split()[0] == \"CAUCION\" and\n",
    "            df.iloc[i, 4] == riesgo\n",
    "        ):\n",
    "            total_found = True\n",
    "            contrato_found = False\n",
    "        elif df.iloc[i, 2] == \"Contrato:\":\n",
    "            contrato_found = True\n",
    "            total_found = False\n",
    "    \n",
    "        # Select rows between \"TOTAL:\" and \"Contrato:\"\n",
    "        if total_found and not contrato_found:\n",
    "            selected_dfs.append(df.iloc[i])\n",
    "\n",
    "    # Check if there are selected DataFrames\n",
    "    if selected_dfs:\n",
    "        # Concatenate the list of selected DataFrames into a single DataFrame\n",
    "        result_df = pd.concat(selected_dfs, axis=1).T\n",
    "\n",
    "        # Filter out rows that start with specific words in the first column\n",
    "        result_df = result_df[~result_df.iloc[:, 0].astype(str).str.startswith(('Póliza', 'Operador:'))]\n",
    "\n",
    "        # Filter out rows that in the third column start with specific words\n",
    "        result_df = result_df[~result_df.iloc[:, 2].astype(str).str.startswith(('REGIONAL', 'Listado', 'Emisiones', 'Anulaciones'))]\n",
    "\n",
    "        # Remove columns with all NaN values\n",
    "        result_df = result_df.dropna(axis=1, how='all')\n",
    "\n",
    "        # Change the column names for letters. Example: \"Unamed: 0\" to \"A\"\n",
    "        result_df.columns = [chr(65 + i) for i in range(len(result_df.columns))]\n",
    "\n",
    "        return result_df\n",
    "    else:\n",
    "        print(\"No matching rows found.\")\n",
    "        return None\n",
    "\"\"\"\n",
    "# Example usage\n",
    "# Replace 'your_dataframe' with the actual DataFrame variable name\n",
    "# Replace 2022 and 'EXCEDENTE' with the desired values for year and riesgo\n",
    "your_filtered_df = filter_dataframe_vida(df, 2023, 'EXCEDENTE')\n",
    "if your_filtered_df is not None:\n",
    "    print(your_filtered_df)\n",
    "\"\"\"\n",
    "\n",
    "\n",
    "def filter_dataframe_patrimoniales(df, year, riesgo, vida=False):\n",
    "    # Initialize an empty list to store the selected DataFrames\n",
    "    selected_dfs = []\n",
    "\n",
    "    # Flags to track whether \"TOTAL:\" and \"Contrato:\" are found\n",
    "    total_found = False\n",
    "    contrato_found = False\n",
    "\n",
    "    # Iterate through the DataFrame\n",
    "    for i in range(len(df)):\n",
    "        # Check conditions for each row\n",
    "        if (\n",
    "            df.iloc[i, 2] == \"TOTAL:\" and\n",
    "            df.iloc[i, 3] == year and\n",
    "            not (df.iloc[i, 7]).split()[0] == \"VIDA\" and\n",
    "            not (df.iloc[i, 7]).split()[0] == \"CAUCION\" and\n",
    "            df.iloc[i, 4] == riesgo\n",
    "        ):\n",
    "            total_found = True\n",
    "            contrato_found = False\n",
    "        elif df.iloc[i, 2] == \"Contrato:\":\n",
    "            contrato_found = True\n",
    "            total_found = False\n",
    "    \n",
    "        # Select rows between \"TOTAL:\" and \"Contrato:\"\n",
    "        if total_found and not contrato_found:\n",
    "            selected_dfs.append(df.iloc[i])\n",
    "\n",
    "    # Check if there are selected DataFrames\n",
    "    if selected_dfs:\n",
    "        # Concatenate the list of selected DataFrames into a single DataFrame\n",
    "        result_df = pd.concat(selected_dfs, axis=1).T\n",
    "\n",
    "        # Filter out rows that start with specific words in the first column\n",
    "        result_df = result_df[~result_df.iloc[:, 0].astype(str).str.startswith(('Póliza', 'Operador:'))]\n",
    "\n",
    "        # Filter out rows that in the third column start with specific words\n",
    "        result_df = result_df[~result_df.iloc[:, 2].astype(str).str.startswith(('REGIONAL', 'Listado', 'Emisiones', 'Anulaciones'))]\n",
    "\n",
    "        # Remove columns with all NaN values\n",
    "        result_df = result_df.dropna(axis=1, how='all')\n",
    "\n",
    "        # Change the column names for letters. Example: \"Unamed: 0\" to \"A\"\n",
    "        result_df.columns = [chr(65 + i) for i in range(len(result_df.columns))]\n",
    "\n",
    "        return result_df\n",
    "    else:\n",
    "        print(\"No matching rows found.\")\n",
    "        return None\n",
    "\"\"\"\n",
    "# Example usage\n",
    "# Replace 'your_dataframe' with the actual DataFrame variable name\n",
    "# Replace 2022 and 'EXCEDENTE' with the desired values for year and riesgo\n",
    "your_filtered_df = filter_dataframe_patrimoniales(df, 2023, 'EXCEDENTE')\n",
    "if your_filtered_df is not None:\n",
    "    print(your_filtered_df)\n",
    "\"\"\"\n",
    "\n",
    "\n",
    "def remove_totals(df):\n",
    "    # Remove all the rows that start with \"TOTAL:\" in the second column\n",
    "    result_df = df[~df.iloc[:, 1].astype(str).str.startswith('TOTAL:')]\n",
    "    \n",
    "    # Remove all empty rows\n",
    "    result_df = result_df.dropna(how='all')\n",
    "\n",
    "    return result_df\n",
    "\"\"\"\n",
    "# Example usage\n",
    "# Replace 'your_dataframe' with the actual DataFrame variable name\n",
    "your_processed_df = process_dataframe(your_dataframe)\n",
    "print(your_processed_df)\n",
    "\"\"\"\n",
    "\n",
    "\n",
    "def calculate_sums(df):\n",
    "    # Suma los valores numéricos de las columnas H, la columna L y la columna M,\n",
    "    # devuélveme los valores y almacénalos en variables \"prima\", \"importe_comision\" y \"a_favor\" respectivamente\n",
    "    prima = pd.to_numeric(df['H'], errors='coerce').fillna(0).sum()\n",
    "    importe_comision = pd.to_numeric(df['L'], errors='coerce').fillna(0).sum()\n",
    "    a_favor = pd.to_numeric(df['M'], errors='coerce').fillna(0).sum()\n",
    "\n",
    "    return prima, importe_comision, a_favor\n",
    "\"\"\"\n",
    "# Example usage\n",
    "# Replace 'your_dataframe' with the actual DataFrame variable name\n",
    "your_processed_df = process_dataframe(your_dataframe)\n",
    "prima_value, importe_comision_value, a_favor_value = calculate_sums(your_processed_df)\n",
    "print(prima_value, importe_comision_value, a_favor_value)\n",
    "\"\"\"\n"
   ]
  },
  {
   "cell_type": "code",
   "execution_count": 44,
   "metadata": {},
   "outputs": [
    {
     "data": {
      "text/plain": [
       "'\\n# Example usage\\n# Replace \\'your_dataframe\\' with the actual DataFrame variable name\\n# Replace 2022 and \\'EXCEDENTE\\' with the desired values for year and riesgo\\nyour_sums_result = process_and_sum_patrimoniales(df, 2023, \\'EXCEDENTE\\')\\nprint(\"Prima:\", your_sums_result[0])\\nprint(\"Importe Comision:\", your_sums_result[1])\\nprint(\"A Favor:\", your_sums_result[2])\\n'"
      ]
     },
     "execution_count": 44,
     "metadata": {},
     "output_type": "execute_result"
    }
   ],
   "source": [
    "def process_and_sum_vida(df, year, riesgo):\n",
    "    # Step 1: Filter the DataFrame\n",
    "    filtered_df = filter_dataframe_vida(df, year, riesgo)\n",
    "    \n",
    "    # Step 2: Remove totals from the filtered DataFrame\n",
    "    processed_df = remove_totals(filtered_df)\n",
    "    \n",
    "    # Step 3: Calculate the sums\n",
    "    sums_result = calculate_sums(processed_df)\n",
    "    \n",
    "    return sums_result\n",
    "\"\"\"\n",
    "# Example usage\n",
    "# Replace 'your_dataframe' with the actual DataFrame variable name\n",
    "# Replace 2022 and 'EXCEDENTE' with the desired values for year and riesgo\n",
    "your_sums_result = process_and_sum_vida(df, 2023, 'EXCEDENTE')\n",
    "print(\"Prima:\", your_sums_result[0])\n",
    "print(\"Importe Comision:\", your_sums_result[1])\n",
    "print(\"A Favor:\", your_sums_result[2])\n",
    "\"\"\"\n",
    "def process_and_sum_patrimoniales(df, year, riesgo):\n",
    "    # Step 1: Filter the DataFrame\n",
    "    filtered_df = filter_dataframe_patrimoniales(df, year, riesgo)\n",
    "    \n",
    "    # Step 2: Remove totals from the filtered DataFrame\n",
    "    processed_df = remove_totals(filtered_df)\n",
    "    \n",
    "    # Step 3: Calculate the sums\n",
    "    sums_result = calculate_sums(processed_df)\n",
    "    \n",
    "    return sums_result\n",
    "\"\"\"\n",
    "# Example usage\n",
    "# Replace 'your_dataframe' with the actual DataFrame variable name\n",
    "# Replace 2022 and 'EXCEDENTE' with the desired values for year and riesgo\n",
    "your_sums_result = process_and_sum_patrimoniales(df, 2023, 'EXCEDENTE')\n",
    "print(\"Prima:\", your_sums_result[0])\n",
    "print(\"Importe Comision:\", your_sums_result[1])\n",
    "print(\"A Favor:\", your_sums_result[2])\n",
    "\"\"\"\n"
   ]
  },
  {
   "cell_type": "code",
   "execution_count": 45,
   "metadata": {},
   "outputs": [
    {
     "name": "stdout",
     "output_type": "stream",
     "text": [
      "Prima: 222174885.0\n",
      "Importe Comision: 67096913.0\n",
      "A Favor: 155077972.0\n"
     ]
    }
   ],
   "source": [
    "your_sums_result = process_and_sum_patrimoniales(df, 2021, 'CUOTA PARTE')\n",
    "print(\"Prima:\", your_sums_result[0])\n",
    "print(\"Importe Comision:\", your_sums_result[1])\n",
    "print(\"A Favor:\", your_sums_result[2])"
   ]
  },
  {
   "cell_type": "code",
   "execution_count": 48,
   "metadata": {},
   "outputs": [
    {
     "name": "stdout",
     "output_type": "stream",
     "text": [
      "Prima: 193979440.0\n",
      "Importe Comision: 60909352.0\n",
      "A Favor: 133070088.0\n"
     ]
    }
   ],
   "source": [
    "your_sums_result = process_and_sum_patrimoniales(df, 2020, 'EXCEDENTE')\n",
    "print(\"Prima:\", your_sums_result[0])\n",
    "print(\"Importe Comision:\", your_sums_result[1])\n",
    "print(\"A Favor:\", your_sums_result[2])"
   ]
  },
  {
   "cell_type": "code",
   "execution_count": null,
   "metadata": {},
   "outputs": [],
   "source": [
    "your_sums_result = process_and_sum_patrimoniales(df, 2020, 'CUOTA PARTE')\n",
    "print(\"Prima:\", your_sums_result[0])\n",
    "print(\"Importe Comision:\", your_sums_result[1])\n",
    "print(\"A Favor:\", your_sums_result[2])"
   ]
  },
  {
   "cell_type": "code",
   "execution_count": null,
   "metadata": {},
   "outputs": [],
   "source": [
    "your_sums_result = process_and_sum_patrimoniales(df, 2022, 'EXCEDENTE')\n",
    "print(\"Prima:\", your_sums_result[0])\n",
    "print(\"Importe Comision:\", your_sums_result[1])\n",
    "print(\"A Favor:\", your_sums_result[2])"
   ]
  },
  {
   "cell_type": "code",
   "execution_count": null,
   "metadata": {},
   "outputs": [],
   "source": [
    "your_sums_result = process_and_sum_patrimoniales(df, 2022, 'CUOTA PARTE')\n",
    "print(\"Prima:\", your_sums_result[0])\n",
    "print(\"Importe Comision:\", your_sums_result[1])\n",
    "print(\"A Favor:\", your_sums_result[2])"
   ]
  },
  {
   "cell_type": "code",
   "execution_count": null,
   "metadata": {},
   "outputs": [],
   "source": [
    "your_sums_result = process_and_sum_patrimoniales(df, 2023, 'EXCEDENTE')\n",
    "print(\"Prima:\", your_sums_result[0])\n",
    "print(\"Importe Comision:\", your_sums_result[1])\n",
    "print(\"A Favor:\", your_sums_result[2])"
   ]
  },
  {
   "cell_type": "code",
   "execution_count": null,
   "metadata": {},
   "outputs": [],
   "source": [
    "your_sums_result = process_and_sum_patrimoniales(df, 2023, 'CUOTA PARTE')\n",
    "print(\"Prima:\", your_sums_result[0])\n",
    "print(\"Importe Comision:\", your_sums_result[1])\n",
    "print(\"A Favor:\", your_sums_result[2])"
   ]
  },
  {
   "cell_type": "code",
   "execution_count": 39,
   "metadata": {},
   "outputs": [],
   "source": [
    "result_df = filter_dataframe_patrimoniales(df, 2023, 'CUOTA PARTE')\n",
    "result_df.to_excel('anulaciones QS.xlsx', index=False)"
   ]
  }
 ],
 "metadata": {
  "kernelspec": {
   "display_name": ".venv",
   "language": "python",
   "name": "python3"
  },
  "language_info": {
   "codemirror_mode": {
    "name": "ipython",
    "version": 3
   },
   "file_extension": ".py",
   "mimetype": "text/x-python",
   "name": "python",
   "nbconvert_exporter": "python",
   "pygments_lexer": "ipython3",
   "version": "3.11.3"
  }
 },
 "nbformat": 4,
 "nbformat_minor": 2
}
